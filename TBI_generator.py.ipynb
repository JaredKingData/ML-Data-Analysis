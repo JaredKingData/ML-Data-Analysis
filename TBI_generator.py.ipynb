{
 "cells": [
  {
   "cell_type": "code",
   "execution_count": null,
   "id": "19365ca0",
   "metadata": {},
   "outputs": [],
   "source": [
    "import random\n",
    "import pandas as pd\n",
    "\n",
    "# Define the participant ID numbers\n",
    "participant_id = list(range(1, 101))\n",
    "\n",
    "# Define the TBI severity levels\n",
    "tbi_levels = [\"Mild\", \"Moderate\", \"Severe\"]\n",
    "\n",
    "# Initialize the lists for age, gender, TBI severity, suicidal ideation score, and depression score\n",
    "age = []\n",
    "gender = []\n",
    "tbi_severity = []\n",
    "suicidal_ideation = []\n",
    "depression_score = []\n",
    "\n",
    "# Generate random values for age, gender, TBI severity, and suicidal ideation score for each participant\n",
    "for i in range(100):\n",
    "    age.append(random.randint(20, 100))\n",
    "    gender.append(random.choice([\"Male\", \"Female\"]))\n",
    "    tbi_severity.append(random.choice(tbi_levels))\n",
    "    if tbi_severity[i] == \"Mild\":\n",
    "        suicidal_ideation.append(random.randint(1, 10))\n",
    "    elif tbi_severity[i] == \"Moderate\":\n",
    "        suicidal_ideation.append(random.randint(11, 20))\n",
    "    else:\n",
    "        suicidal_ideation.append(random.randint(21, 30))\n",
    "    weight = 0\n",
    "    weight += (age[i] / 100) * 3\n",
    "    if gender[i] == \"Male\":\n",
    "        weight += 2\n",
    "    if tbi_severity[i] == \"Moderate\":\n",
    "        weight += 3\n",
    "    elif tbi_severity[i] == \"Severe\":\n",
    "        weight += 5\n",
    "    weight += (suicidal_ideation[i] / 30) * 2\n",
    "    depression_score.append(round(weight / 15 * 10, 1))\n",
    "\n",
    "# Create a matrix of the final values\n",
    "data = {\"Participant ID\": participant_id,\n",
    "        \"Age\": age,\n",
    "        \"Gender\": gender,\n",
    "        \"TBI Severity\": tbi_severity,\n",
    "        \"Suicidal Ideation Score\": suicidal_ideation,\n",
    "        \"Depression Score\": depression_score}\n",
    "df = pd.DataFrame(data)\n",
    "\n",
    "# Export the matrix to an Excel file\n",
    "df.to_excel(\"participant_data.xlsx\", index=False)"
   ]
  }
 ],
 "metadata": {
  "kernelspec": {
   "display_name": "Python 3 (ipykernel)",
   "language": "python",
   "name": "python3"
  },
  "language_info": {
   "codemirror_mode": {
    "name": "ipython",
    "version": 3
   },
   "file_extension": ".py",
   "mimetype": "text/x-python",
   "name": "python",
   "nbconvert_exporter": "python",
   "pygments_lexer": "ipython3",
   "version": "3.9.13"
  }
 },
 "nbformat": 4,
 "nbformat_minor": 5
}
