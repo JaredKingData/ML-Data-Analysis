{
 "cells": [
  {
   "cell_type": "markdown",
   "id": "9c97cb29",
   "metadata": {},
   "source": [
    "# Machine Learning Tutorial \n",
    "## This Tutorial will go over basic python principles for data analysis using ML. "
   ]
  },
  {
   "cell_type": "markdown",
   "id": "ab879eb7",
   "metadata": {},
   "source": [
    "Let's start off by importing some useful libraries..."
   ]
  },
  {
   "cell_type": "code",
   "execution_count": 2,
   "id": "66dc8587",
   "metadata": {},
   "outputs": [],
   "source": [
    "# import useful libraries\n",
    "\n",
    "import pandas as pd\n",
    "import numpy as np\n",
    "import matplotlib.pyplot as plt\n",
    "from sklearn import linear_model\n"
   ]
  },
  {
   "cell_type": "markdown",
   "id": "cf733411",
   "metadata": {},
   "source": [
    "Next, let's make sure we are working in the correct current working directory."
   ]
  },
  {
   "cell_type": "code",
   "execution_count": 7,
   "id": "7383af6a",
   "metadata": {},
   "outputs": [],
   "source": [
    "import os\n",
    "\n",
    "# Tell us where we are... make sure you are working in the folder where your data is saved.\n",
    "os.getcwd()\n",
    "\n",
    "\n",
    "# Tell us where we want to go...\n",
    "# os.chdir(\"C:/Users/jacos/Desktop\") # Use the path to the folder where your data is located.\n",
    "\n",
    "# Print again to confirm we are where we want to be.\n",
    "# os.getcwd()"
   ]
  },
  {
   "cell_type": "markdown",
   "id": "7fd4f0c3",
   "metadata": {},
   "source": [
    "Okay, good... Now that we are working in the right folder, let's take a quick look at our data. For this example, we are going to see how depression score impacts suicide score. \n",
    "    - higher depression score means the patient has a higher occurrence of depressive symptoms.\n",
    "    - higher suicide score means the patient has a higher likihood of the symptom of suicidal ideation.\n",
    "    \n",
    "Sorry for the dark topic, but it is directly related to my current work. \n",
    "\n",
    "### **These data are completely fake!** If you would like to see how I generated the dataset of 100 participants, you can find my code in the repository for this workbook. \n",
    "For now, all you need to know is that the data were generated to ensure that these two variables are correlated. "
   ]
  },
  {
   "cell_type": "code",
   "execution_count": 24,
   "id": "679a9ba5",
   "metadata": {
    "scrolled": true
   },
   "outputs": [
    {
     "data": {
      "text/html": [
       "<div>\n",
       "<style scoped>\n",
       "    .dataframe tbody tr th:only-of-type {\n",
       "        vertical-align: middle;\n",
       "    }\n",
       "\n",
       "    .dataframe tbody tr th {\n",
       "        vertical-align: top;\n",
       "    }\n",
       "\n",
       "    .dataframe thead th {\n",
       "        text-align: right;\n",
       "    }\n",
       "</style>\n",
       "<table border=\"1\" class=\"dataframe\">\n",
       "  <thead>\n",
       "    <tr style=\"text-align: right;\">\n",
       "      <th></th>\n",
       "      <th>depression</th>\n",
       "      <th>suicide</th>\n",
       "    </tr>\n",
       "  </thead>\n",
       "  <tbody>\n",
       "    <tr>\n",
       "      <th>0</th>\n",
       "      <td>3.5</td>\n",
       "      <td>9</td>\n",
       "    </tr>\n",
       "    <tr>\n",
       "      <th>1</th>\n",
       "      <td>6.4</td>\n",
       "      <td>25</td>\n",
       "    </tr>\n",
       "    <tr>\n",
       "      <th>2</th>\n",
       "      <td>4.8</td>\n",
       "      <td>22</td>\n",
       "    </tr>\n",
       "    <tr>\n",
       "      <th>3</th>\n",
       "      <td>6.2</td>\n",
       "      <td>21</td>\n",
       "    </tr>\n",
       "    <tr>\n",
       "      <th>4</th>\n",
       "      <td>2.3</td>\n",
       "      <td>5</td>\n",
       "    </tr>\n",
       "    <tr>\n",
       "      <th>...</th>\n",
       "      <td>...</td>\n",
       "      <td>...</td>\n",
       "    </tr>\n",
       "    <tr>\n",
       "      <th>95</th>\n",
       "      <td>3.0</td>\n",
       "      <td>4</td>\n",
       "    </tr>\n",
       "    <tr>\n",
       "      <th>96</th>\n",
       "      <td>NaN</td>\n",
       "      <td>3</td>\n",
       "    </tr>\n",
       "    <tr>\n",
       "      <th>97</th>\n",
       "      <td>5.8</td>\n",
       "      <td>26</td>\n",
       "    </tr>\n",
       "    <tr>\n",
       "      <th>98</th>\n",
       "      <td>6.8</td>\n",
       "      <td>29</td>\n",
       "    </tr>\n",
       "    <tr>\n",
       "      <th>99</th>\n",
       "      <td>1.7</td>\n",
       "      <td>8</td>\n",
       "    </tr>\n",
       "  </tbody>\n",
       "</table>\n",
       "<p>100 rows × 2 columns</p>\n",
       "</div>"
      ],
      "text/plain": [
       "    depression  suicide\n",
       "0          3.5        9\n",
       "1          6.4       25\n",
       "2          4.8       22\n",
       "3          6.2       21\n",
       "4          2.3        5\n",
       "..         ...      ...\n",
       "95         3.0        4\n",
       "96         NaN        3\n",
       "97         5.8       26\n",
       "98         6.8       29\n",
       "99         1.7        8\n",
       "\n",
       "[100 rows x 2 columns]"
      ]
     },
     "execution_count": 24,
     "metadata": {},
     "output_type": "execute_result"
    }
   ],
   "source": [
    "df = pd.read_excel(\"depression_suicide.xlsx\")\n",
    "df"
   ]
  },
  {
   "cell_type": "markdown",
   "id": "87b9372d",
   "metadata": {},
   "source": [
    "Looks good so far (except it looks like we are missing a few values... that's okay. We'll worry about those in a minute).\n",
    "\n",
    "### Let's plot these data and see how they look!"
   ]
  },
  {
   "cell_type": "code",
   "execution_count": 53,
   "id": "48e3650f",
   "metadata": {},
   "outputs": [
    {
     "data": {
      "text/plain": [
       "<matplotlib.collections.PathCollection at 0x24a9eb84f70>"
      ]
     },
     "execution_count": 53,
     "metadata": {},
     "output_type": "execute_result"
    },
    {
     "data": {
      "image/png": "[encoded data removed]",
      "text/plain": [
       "<Figure size 640x480 with 1 Axes>"
      ]
     },
     "metadata": {},
     "output_type": "display_data"
    }
   ],
   "source": [
    "%matplotlib inline  \n",
    "\n",
    "# Label your x axis.\n",
    "plt.xlabel('depression score', fontsize = 20) # Remember, your independent variable (IV) should go here.This is your predictor variable. \n",
    "\n",
    "# Label y axis.\n",
    "plt.ylabel('suicide score', fontsize = 20) # Remember, your dependent variable (DV) goes here. This is the thing you are trying to predict.\n",
    "\n",
    "plt.scatter(df.depression, df.suicide, color = 'red', marker = '+') # Create a scatterplot with red +'s."
   ]
  },
  {
   "cell_type": "markdown",
   "id": "bc356df2",
   "metadata": {},
   "source": [
    "### These two variables appear at a glance to be heavily correlated. This is unsurprising, because I made them up and told you they would be. That's okay. Let's look at them a little more deeply anyway.\n",
    "I would like to move on to linear regression. However, python is not going to like that some of the data are missing. Later, we will talk more about how to handle missing data during preprocessing stages. For now, I will just do the easiest thing, which is to remove the missing data. **Don't worry too much about this now.**\n"
   ]
  },
  {
   "cell_type": "code",
   "execution_count": 28,
   "id": "59f4fbd0",
   "metadata": {
    "scrolled": true
   },
   "outputs": [
    {
     "data": {
      "text/html": [
       "<div>\n",
       "<style scoped>\n",
       "    .dataframe tbody tr th:only-of-type {\n",
       "        vertical-align: middle;\n",
       "    }\n",
       "\n",
       "    .dataframe tbody tr th {\n",
       "        vertical-align: top;\n",
       "    }\n",
       "\n",
       "    .dataframe thead th {\n",
       "        text-align: right;\n",
       "    }\n",
       "</style>\n",
       "<table border=\"1\" class=\"dataframe\">\n",
       "  <thead>\n",
       "    <tr style=\"text-align: right;\">\n",
       "      <th></th>\n",
       "      <th>depression</th>\n",
       "      <th>suicide</th>\n",
       "    </tr>\n",
       "  </thead>\n",
       "  <tbody>\n",
       "    <tr>\n",
       "      <th>94</th>\n",
       "      <td>1.8</td>\n",
       "      <td>4</td>\n",
       "    </tr>\n",
       "    <tr>\n",
       "      <th>95</th>\n",
       "      <td>3.0</td>\n",
       "      <td>4</td>\n",
       "    </tr>\n",
       "    <tr>\n",
       "      <th>97</th>\n",
       "      <td>5.8</td>\n",
       "      <td>26</td>\n",
       "    </tr>\n",
       "    <tr>\n",
       "      <th>98</th>\n",
       "      <td>6.8</td>\n",
       "      <td>29</td>\n",
       "    </tr>\n",
       "    <tr>\n",
       "      <th>99</th>\n",
       "      <td>1.7</td>\n",
       "      <td>8</td>\n",
       "    </tr>\n",
       "  </tbody>\n",
       "</table>\n",
       "</div>"
      ],
      "text/plain": [
       "    depression  suicide\n",
       "94         1.8        4\n",
       "95         3.0        4\n",
       "97         5.8       26\n",
       "98         6.8       29\n",
       "99         1.7        8"
      ]
     },
     "execution_count": 28,
     "metadata": {},
     "output_type": "execute_result"
    }
   ],
   "source": [
    "# This will drop all rows (or people) who have any missing data.\n",
    "df.dropna(inplace=True)\n",
    "\n",
    "df.tail() # Let's make sure it still looks good."
   ]
  },
  {
   "cell_type": "markdown",
   "id": "bdc48484",
   "metadata": {},
   "source": [
    "As you can see, person 96 is no longer visible."
   ]
  },
  {
   "cell_type": "markdown",
   "id": "3a478161",
   "metadata": {},
   "source": [
    "## Linear Regression "
   ]
  },
  {
   "cell_type": "code",
   "execution_count": 29,
   "id": "aa560361",
   "metadata": {},
   "outputs": [
    {
     "data": {
      "text/plain": [
       "LinearRegression()"
      ]
     },
     "execution_count": 29,
     "metadata": {},
     "output_type": "execute_result"
    }
   ],
   "source": [
    "# Create a linear regression object\n",
    "reg = linear_model.LinearRegression()\n",
    "\n",
    "# Fit the model for training.\n",
    "reg.fit(df[['depression']], df.suicide)"
   ]
  },
  {
   "cell_type": "markdown",
   "id": "d8384aa4",
   "metadata": {},
   "source": [
    "We didn't see an error. I believe that means that this model is ready to predict suicidal ideation."
   ]
  },
  {
   "cell_type": "code",
   "execution_count": 33,
   "id": "435d73ac",
   "metadata": {},
   "outputs": [
    {
     "name": "stderr",
     "output_type": "stream",
     "text": [
      "C:\\Users\\jacos\\anaconda3\\lib\\site-packages\\sklearn\\base.py:450: UserWarning: X does not have valid feature names, but LinearRegression was fitted with feature names\n",
      "  warnings.warn(\n"
     ]
    },
    {
     "data": {
      "text/plain": [
       "array([15.06637559])"
      ]
     },
     "execution_count": 33,
     "metadata": {},
     "output_type": "execute_result"
    }
   ],
   "source": [
    "# Let's try to predict a person's suicidal ideation score when they have a depression score of 4.3.\n",
    "reg.predict([[4.3]])"
   ]
  },
  {
   "cell_type": "markdown",
   "id": "5bfa9f58",
   "metadata": {},
   "source": [
    "Don't worry about that error. It's not important. The important thing is that our model seems to have done a pretty reasonable job of predicting suicidal ideation, given the participant's depression score. \n",
    "\n",
    "### Let's talk about why it came up with this value for suicidal ideation...\n",
    "\n",
    "In order to understand this part, we need to look at the equation for linear regression. This equation is **y = mx + b**, where y is our estimated value (in this case, it is our predicted value for suicidal ideation). m is our coefficient (meaning this is the slope of the model, or how fast it will change for each unit of change), and b is our intercept (this is equivalent to the value of suicidality for a depression score of zero). Of course, x is our value of depression. "
   ]
  },
  {
   "cell_type": "code",
   "execution_count": 40,
   "id": "44a1b2ae",
   "metadata": {},
   "outputs": [
    {
     "data": {
      "text/plain": [
       "array([3.90552749])"
      ]
     },
     "execution_count": 40,
     "metadata": {},
     "output_type": "execute_result"
    }
   ],
   "source": [
    "# Look at the values for the coefficient (m)\n",
    "m = reg.coef_\n",
    "m"
   ]
  },
  {
   "cell_type": "markdown",
   "id": "5b77d3b9",
   "metadata": {},
   "source": [
    "Our value for m is 3.90552749."
   ]
  },
  {
   "cell_type": "code",
   "execution_count": 39,
   "id": "bc8f4fb9",
   "metadata": {},
   "outputs": [
    {
     "data": {
      "text/plain": [
       "-1.727392617266732"
      ]
     },
     "execution_count": 39,
     "metadata": {},
     "output_type": "execute_result"
    }
   ],
   "source": [
    "# Look at the value for the intercept (b)\n",
    "b = reg.intercept_\n",
    "b"
   ]
  },
  {
   "cell_type": "markdown",
   "id": "3a8c5e58",
   "metadata": {},
   "source": [
    "Our value for b is -1.727392617266732. So, in other words, when we have a depression score of zero, our estimated suicidality is negative (thank goodness)."
   ]
  },
  {
   "cell_type": "markdown",
   "id": "d027fde2",
   "metadata": {},
   "source": [
    "**Now we have all the information we need to plug into the equation**\n",
    "Remember, the value we used for x was 4.3. Let's use that same value here."
   ]
  },
  {
   "cell_type": "code",
   "execution_count": 41,
   "id": "2562306d",
   "metadata": {},
   "outputs": [
    {
     "data": {
      "text/plain": [
       "array([15.06637559])"
      ]
     },
     "execution_count": 41,
     "metadata": {},
     "output_type": "execute_result"
    }
   ],
   "source": [
    "x = 4.3\n",
    "y = (m * x) + b\n",
    "y"
   ]
  },
  {
   "cell_type": "markdown",
   "id": "391c06c1",
   "metadata": {},
   "source": [
    "Notice that our estimated value for suicidality with a depression score of 4.3, was 15.066... **The same as before!** Now you know how regression works, and how the model is using regression to make a prediction. \n",
    "\n",
    "This may seem very simple. But it is important that this fundamental concept is understood well before getting into the deeper stuff."
   ]
  },
  {
   "cell_type": "markdown",
   "id": "2b1cc9ff",
   "metadata": {},
   "source": [
    "### Using our model to predict suicidal ideation for a set of new depression data\n",
    "\n",
    "Our regression model clearly did well to predict on the data that was used to create it... but how will it do when predicting on entirely new data? Here, I have created another set of 100 participants using the same criteria as before. "
   ]
  },
  {
   "cell_type": "code",
   "execution_count": 42,
   "id": "208b04c9",
   "metadata": {},
   "outputs": [
    {
     "data": {
      "text/html": [
       "<div>\n",
       "<style scoped>\n",
       "    .dataframe tbody tr th:only-of-type {\n",
       "        vertical-align: middle;\n",
       "    }\n",
       "\n",
       "    .dataframe tbody tr th {\n",
       "        vertical-align: top;\n",
       "    }\n",
       "\n",
       "    .dataframe thead th {\n",
       "        text-align: right;\n",
       "    }\n",
       "</style>\n",
       "<table border=\"1\" class=\"dataframe\">\n",
       "  <thead>\n",
       "    <tr style=\"text-align: right;\">\n",
       "      <th></th>\n",
       "      <th>Depression Score</th>\n",
       "    </tr>\n",
       "  </thead>\n",
       "  <tbody>\n",
       "    <tr>\n",
       "      <th>0</th>\n",
       "      <td>1.5</td>\n",
       "    </tr>\n",
       "    <tr>\n",
       "      <th>1</th>\n",
       "      <td>6.2</td>\n",
       "    </tr>\n",
       "    <tr>\n",
       "      <th>2</th>\n",
       "      <td>6.3</td>\n",
       "    </tr>\n",
       "    <tr>\n",
       "      <th>3</th>\n",
       "      <td>1.8</td>\n",
       "    </tr>\n",
       "    <tr>\n",
       "      <th>4</th>\n",
       "      <td>5.3</td>\n",
       "    </tr>\n",
       "    <tr>\n",
       "      <th>...</th>\n",
       "      <td>...</td>\n",
       "    </tr>\n",
       "    <tr>\n",
       "      <th>95</th>\n",
       "      <td>1.8</td>\n",
       "    </tr>\n",
       "    <tr>\n",
       "      <th>96</th>\n",
       "      <td>3.5</td>\n",
       "    </tr>\n",
       "    <tr>\n",
       "      <th>97</th>\n",
       "      <td>7.3</td>\n",
       "    </tr>\n",
       "    <tr>\n",
       "      <th>98</th>\n",
       "      <td>7.3</td>\n",
       "    </tr>\n",
       "    <tr>\n",
       "      <th>99</th>\n",
       "      <td>6.9</td>\n",
       "    </tr>\n",
       "  </tbody>\n",
       "</table>\n",
       "<p>100 rows × 1 columns</p>\n",
       "</div>"
      ],
      "text/plain": [
       "    Depression Score\n",
       "0                1.5\n",
       "1                6.2\n",
       "2                6.3\n",
       "3                1.8\n",
       "4                5.3\n",
       "..               ...\n",
       "95               1.8\n",
       "96               3.5\n",
       "97               7.3\n",
       "98               7.3\n",
       "99               6.9\n",
       "\n",
       "[100 rows x 1 columns]"
      ]
     },
     "execution_count": 42,
     "metadata": {},
     "output_type": "execute_result"
    }
   ],
   "source": [
    "# Let's look at the new dataset...\n",
    "d = pd.read_excel(\"depression.xlsx\")\n",
    "d"
   ]
  },
  {
   "cell_type": "markdown",
   "id": "08c1b08d",
   "metadata": {},
   "source": [
    "Great! Now, lets use our model to predict on these data..."
   ]
  },
  {
   "cell_type": "code",
   "execution_count": 44,
   "id": "25a52c6d",
   "metadata": {
    "scrolled": true
   },
   "outputs": [
    {
     "name": "stderr",
     "output_type": "stream",
     "text": [
      "C:\\Users\\jacos\\anaconda3\\lib\\site-packages\\sklearn\\base.py:493: FutureWarning: The feature names should match those that were passed during fit. Starting version 1.2, an error will be raised.\n",
      "Feature names unseen at fit time:\n",
      "- Depression Score\n",
      "Feature names seen at fit time, yet now missing:\n",
      "- depression\n",
      "\n",
      "  warnings.warn(message, FutureWarning)\n"
     ]
    }
   ],
   "source": [
    "s = reg.predict(d) # store our values as 's' for suicide predictions."
   ]
  },
  {
   "cell_type": "markdown",
   "id": "a0b679f5",
   "metadata": {},
   "source": [
    "Again... don't worry about the warning. It's not important.\n",
    "\n",
    "### Let's add the new predictions into our dataframe."
   ]
  },
  {
   "cell_type": "code",
   "execution_count": 47,
   "id": "6e211a4f",
   "metadata": {},
   "outputs": [
    {
     "data": {
      "text/html": [
       "<div>\n",
       "<style scoped>\n",
       "    .dataframe tbody tr th:only-of-type {\n",
       "        vertical-align: middle;\n",
       "    }\n",
       "\n",
       "    .dataframe tbody tr th {\n",
       "        vertical-align: top;\n",
       "    }\n",
       "\n",
       "    .dataframe thead th {\n",
       "        text-align: right;\n",
       "    }\n",
       "</style>\n",
       "<table border=\"1\" class=\"dataframe\">\n",
       "  <thead>\n",
       "    <tr style=\"text-align: right;\">\n",
       "      <th></th>\n",
       "      <th>Depression Score</th>\n",
       "      <th>suicide</th>\n",
       "    </tr>\n",
       "  </thead>\n",
       "  <tbody>\n",
       "    <tr>\n",
       "      <th>0</th>\n",
       "      <td>1.5</td>\n",
       "      <td>4.130899</td>\n",
       "    </tr>\n",
       "    <tr>\n",
       "      <th>1</th>\n",
       "      <td>6.2</td>\n",
       "      <td>22.486878</td>\n",
       "    </tr>\n",
       "    <tr>\n",
       "      <th>2</th>\n",
       "      <td>6.3</td>\n",
       "      <td>22.877431</td>\n",
       "    </tr>\n",
       "    <tr>\n",
       "      <th>3</th>\n",
       "      <td>1.8</td>\n",
       "      <td>5.302557</td>\n",
       "    </tr>\n",
       "    <tr>\n",
       "      <th>4</th>\n",
       "      <td>5.3</td>\n",
       "      <td>18.971903</td>\n",
       "    </tr>\n",
       "    <tr>\n",
       "      <th>...</th>\n",
       "      <td>...</td>\n",
       "      <td>...</td>\n",
       "    </tr>\n",
       "    <tr>\n",
       "      <th>95</th>\n",
       "      <td>1.8</td>\n",
       "      <td>5.302557</td>\n",
       "    </tr>\n",
       "    <tr>\n",
       "      <th>96</th>\n",
       "      <td>3.5</td>\n",
       "      <td>11.941954</td>\n",
       "    </tr>\n",
       "    <tr>\n",
       "      <th>97</th>\n",
       "      <td>7.3</td>\n",
       "      <td>26.782958</td>\n",
       "    </tr>\n",
       "    <tr>\n",
       "      <th>98</th>\n",
       "      <td>7.3</td>\n",
       "      <td>26.782958</td>\n",
       "    </tr>\n",
       "    <tr>\n",
       "      <th>99</th>\n",
       "      <td>6.9</td>\n",
       "      <td>25.220747</td>\n",
       "    </tr>\n",
       "  </tbody>\n",
       "</table>\n",
       "<p>100 rows × 2 columns</p>\n",
       "</div>"
      ],
      "text/plain": [
       "    Depression Score    suicide\n",
       "0                1.5   4.130899\n",
       "1                6.2  22.486878\n",
       "2                6.3  22.877431\n",
       "3                1.8   5.302557\n",
       "4                5.3  18.971903\n",
       "..               ...        ...\n",
       "95               1.8   5.302557\n",
       "96               3.5  11.941954\n",
       "97               7.3  26.782958\n",
       "98               7.3  26.782958\n",
       "99               6.9  25.220747\n",
       "\n",
       "[100 rows x 2 columns]"
      ]
     },
     "execution_count": 47,
     "metadata": {},
     "output_type": "execute_result"
    }
   ],
   "source": [
    "d['suicide'] = s\n",
    "d"
   ]
  },
  {
   "cell_type": "markdown",
   "id": "6273c815",
   "metadata": {},
   "source": [
    "Our dataframe now has both values. Let's save it as its own Excel sheet."
   ]
  },
  {
   "cell_type": "code",
   "execution_count": 50,
   "id": "97ca8af5",
   "metadata": {},
   "outputs": [],
   "source": [
    "d.to_excel(\"dprediction.xlsx\", index = False) # index is False so that there is not an extra column of index values."
   ]
  },
  {
   "cell_type": "markdown",
   "id": "d57801b6",
   "metadata": {},
   "source": [
    "**Now it our predicted data are saved as their own excel file. You can find this new file in the same folder as your current working directory.**\n",
    "\n",
    "Let's plot our values again and this time include our regression line."
   ]
  },
  {
   "cell_type": "code",
   "execution_count": 58,
   "id": "79a154cb",
   "metadata": {
    "scrolled": true
   },
   "outputs": [
    {
     "data": {
      "text/plain": [
       "[<matplotlib.lines.Line2D at 0x24a981dea90>]"
      ]
     },
     "execution_count": 58,
     "metadata": {},
     "output_type": "execute_result"
    },
    {
     "data": {
      "image/png": "[encoded data removed]",
      "text/plain": [
       "<Figure size 640x480 with 1 Axes>"
      ]
     },
     "metadata": {},
     "output_type": "display_data"
    }
   ],
   "source": [
    "%matplotlib inline  \n",
    "\n",
    "# Label your x axis.\n",
    "plt.xlabel('depression score', fontsize = 20) # Remember, your independent variable (IV) should go here.This is your predictor variable. \n",
    "\n",
    "# Label y axis.\n",
    "plt.ylabel('suicide score', fontsize = 20) # Remember, your dependent variable (DV) goes here. This is the thing you are trying to predict.\n",
    "\n",
    "plt.scatter(df.depression, df.suicide, color = 'red', marker = '+') # Create a scatterplot with red +'s.\n",
    "\n",
    "plt.plot(df.depression, reg.predict(df[['depression']]), color = 'blue')"
   ]
  },
  {
   "cell_type": "markdown",
   "id": "4eb7d061",
   "metadata": {},
   "source": [
    "### Hey! That looks like it did a pretty good job! \n",
    "**This tool is simple, but can be quite powerful. Already, you can probably see many places that this can be quite applicable. However, what if we wanted to use a model to predict suicidality using more variables than just depression? Let's work on that next!"
   ]
  },
  {
   "cell_type": "markdown",
   "id": "bf74a48b",
   "metadata": {},
   "source": [
    "## Linear Regression With Multiple Variables (Multivariate Regression)"
   ]
  },
  {
   "cell_type": "markdown",
   "id": "66b049f9",
   "metadata": {},
   "source": [
    "This time, we will have numerous variables available. We still have our variable for suicidal ideation and our depression score, but now we have included the patient's age, gender, and traumatic brain injury (TBI) severity."
   ]
  },
  {
   "cell_type": "markdown",
   "id": "24921307",
   "metadata": {},
   "source": [
    "### This time, we are going to be a little more involved with our dataset. This will be our training set, so it is important that we take time to carefully analyze our data or we could have some serious issues down the road.\n",
    "First, let's start off by taking a look at our data."
   ]
  },
  {
   "cell_type": "code",
   "execution_count": 76,
   "id": "95852ff8",
   "metadata": {
    "scrolled": true
   },
   "outputs": [
    {
     "data": {
      "text/html": [
       "<div>\n",
       "<style scoped>\n",
       "    .dataframe tbody tr th:only-of-type {\n",
       "        vertical-align: middle;\n",
       "    }\n",
       "\n",
       "    .dataframe tbody tr th {\n",
       "        vertical-align: top;\n",
       "    }\n",
       "\n",
       "    .dataframe thead th {\n",
       "        text-align: right;\n",
       "    }\n",
       "</style>\n",
       "<table border=\"1\" class=\"dataframe\">\n",
       "  <thead>\n",
       "    <tr style=\"text-align: right;\">\n",
       "      <th></th>\n",
       "      <th>Age</th>\n",
       "      <th>Gender</th>\n",
       "      <th>TBI_Severity</th>\n",
       "      <th>Suicide_Score</th>\n",
       "      <th>Depression_Score</th>\n",
       "    </tr>\n",
       "  </thead>\n",
       "  <tbody>\n",
       "    <tr>\n",
       "      <th>0</th>\n",
       "      <td>89.0</td>\n",
       "      <td>Male</td>\n",
       "      <td>Mild</td>\n",
       "      <td>9</td>\n",
       "      <td>3.5</td>\n",
       "    </tr>\n",
       "    <tr>\n",
       "      <th>1</th>\n",
       "      <td>98.0</td>\n",
       "      <td>Female</td>\n",
       "      <td>NaN</td>\n",
       "      <td>25</td>\n",
       "      <td>6.4</td>\n",
       "    </tr>\n",
       "    <tr>\n",
       "      <th>2</th>\n",
       "      <td>26.0</td>\n",
       "      <td>Female</td>\n",
       "      <td>Severe</td>\n",
       "      <td>22</td>\n",
       "      <td>4.8</td>\n",
       "    </tr>\n",
       "    <tr>\n",
       "      <th>3</th>\n",
       "      <td>96.0</td>\n",
       "      <td>Female</td>\n",
       "      <td>Severe</td>\n",
       "      <td>21</td>\n",
       "      <td>6.2</td>\n",
       "    </tr>\n",
       "    <tr>\n",
       "      <th>4</th>\n",
       "      <td>35.0</td>\n",
       "      <td>Male</td>\n",
       "      <td>Mild</td>\n",
       "      <td>5</td>\n",
       "      <td>2.3</td>\n",
       "    </tr>\n",
       "    <tr>\n",
       "      <th>...</th>\n",
       "      <td>...</td>\n",
       "      <td>...</td>\n",
       "      <td>...</td>\n",
       "      <td>...</td>\n",
       "      <td>...</td>\n",
       "    </tr>\n",
       "    <tr>\n",
       "      <th>95</th>\n",
       "      <td>73.0</td>\n",
       "      <td>Male</td>\n",
       "      <td>Mild</td>\n",
       "      <td>4</td>\n",
       "      <td>3.0</td>\n",
       "    </tr>\n",
       "    <tr>\n",
       "      <th>96</th>\n",
       "      <td>97.0</td>\n",
       "      <td>Male</td>\n",
       "      <td>Mild</td>\n",
       "      <td>3</td>\n",
       "      <td>NaN</td>\n",
       "    </tr>\n",
       "    <tr>\n",
       "      <th>97</th>\n",
       "      <td>65.0</td>\n",
       "      <td>Female</td>\n",
       "      <td>Severe</td>\n",
       "      <td>26</td>\n",
       "      <td>5.8</td>\n",
       "    </tr>\n",
       "    <tr>\n",
       "      <th>98</th>\n",
       "      <td>44.0</td>\n",
       "      <td>Male</td>\n",
       "      <td>Severe</td>\n",
       "      <td>29</td>\n",
       "      <td>6.8</td>\n",
       "    </tr>\n",
       "    <tr>\n",
       "      <th>99</th>\n",
       "      <td>69.0</td>\n",
       "      <td>Female</td>\n",
       "      <td>Mild</td>\n",
       "      <td>8</td>\n",
       "      <td>1.7</td>\n",
       "    </tr>\n",
       "  </tbody>\n",
       "</table>\n",
       "<p>100 rows × 5 columns</p>\n",
       "</div>"
      ],
      "text/plain": [
       "     Age  Gender TBI_Severity  Suicide_Score  Depression_Score\n",
       "0   89.0    Male         Mild              9               3.5\n",
       "1   98.0  Female          NaN             25               6.4\n",
       "2   26.0  Female       Severe             22               4.8\n",
       "3   96.0  Female       Severe             21               6.2\n",
       "4   35.0    Male         Mild              5               2.3\n",
       "..   ...     ...          ...            ...               ...\n",
       "95  73.0    Male         Mild              4               3.0\n",
       "96  97.0    Male         Mild              3               NaN\n",
       "97  65.0  Female       Severe             26               5.8\n",
       "98  44.0    Male       Severe             29               6.8\n",
       "99  69.0  Female         Mild              8               1.7\n",
       "\n",
       "[100 rows x 5 columns]"
      ]
     },
     "execution_count": 76,
     "metadata": {},
     "output_type": "execute_result"
    }
   ],
   "source": [
    "df = pd.read_excel(\"multi_suicide.xlsx\")\n",
    "df"
   ]
  },
  {
   "cell_type": "markdown",
   "id": "f89cb4c2",
   "metadata": {},
   "source": [
    "### Step 1. Define the problem and get to know your data.\n"
   ]
  },
  {
   "cell_type": "markdown",
   "id": "f86ff34f",
   "metadata": {},
   "source": [
    "Before we do anything else, it is important that we know as much about our data as humanly possible. The best way to do that is to start of by defining a problem and then designing an experiment aimed at solving that problem. Let's start off by defining the problem:\n",
    "\n",
    "**The problem** is that people with TBIs appear to be taking their own lives at rates higher than in the general public. We want to design an experiment to help us to understand if TBI severity is related to a person's level of depression, and if it may be a predictor for whether that person might take their own life. Knowing this information may be vital to better inform clinicians and the patients that they treat. \n",
    "\n",
    "**The experiment** for this hypothetical dataset (but very **real** problem) aims to assess various aspects about patients in a clinic, all of whom suffer from a traumatic brain injury. It is important that we get to know what our variables are and what they mean:\n",
    "- **Age** is the patient's age in number of years.\n",
    "- **Gender** is the patient's self reported gender as either Male or Female (In reality, there are more than two genders, but included only the two for the sake of simplicity, and for practice transforming a categorical variable using binary encoding).\n",
    "- **TBI Severity** is the severity of the brain injury, as assessed by a physician. This assessment can be either mild, moderate, or severe.\n",
    "- **Suicidal Ideation Score** is the score given by a psychological assessment. This score is a number that was given based on some valid source of assessment.\n",
    "- **Depression Score** is the value assigned by a patient's self-report of depressive symptoms via questionnaire form.\n",
    "\n",
    "**Remember that these values are completely made up and are not actually part of any resource. When analyzing data, it is important that you recognize how those data were collected. You want to know what the numbers mean to the best of your ability. Otherwise, your results will be difficult to interpret. "
   ]
  },
  {
   "cell_type": "markdown",
   "id": "3212e5e3",
   "metadata": {},
   "source": [
    "### Step 2. Preprocessing the data."
   ]
  },
  {
   "cell_type": "markdown",
   "id": "96684b71",
   "metadata": {},
   "source": [
    "Now that we know what each of our variables mean, we can begin preparing our data for analyses. When we look at our data, we want to watch out for certain things in the data that might tell us something is wrong or needs to be addressed. This stage of analysis is called **preprocessing**. Here are some of the things that we are trying to look out for:\n",
    "- missing values\n",
    "- duplicate data\n",
    "- obvious outliers\n",
    "- correct formatting\n",
    "- feature engineering\n",
    "- scaling\n",
    "- encoding\n",
    "    \n",
    "I will try to go over as many of these as possible, but these are just some of the things that I could think of that we need to look out for."
   ]
  },
  {
   "cell_type": "markdown",
   "id": "5a4626cf",
   "metadata": {},
   "source": [
    "**Right off, I can see that we have some missing values**\n",
    "\n",
    "There could be any number of reasons why this could be. Perhaps a participant refused to answer a question, or maybe there was some other circumstance that made it impossible to get certain information. Someone may have forgotten their age, or perhaps they dropped out of the study before they had the chance to complete all the assessments. There is a chance that the patient lied, or perhaps they passed away before they were able to complete the study. Whatever the reasoning, the data is missing and we have to figure out a way to deal with the missing values. \n",
    "\n",
    "If we can know why certain elements are missing, this can sometimes give us important insights into how we may want to handle the missing data. \n",
    "\n",
    "For instance, when predicting trends in suicide, let's say we find that there are some people that are missing their depression score. We may say that they don't matter in the big picture because we still have so much data to use. We may be tempted to remove their rows entirely. This is often the easiest way to handle missing values. \n",
    "\n",
    "However, suppose you were given some divine insight into why that particular value is missing. As it turns out, people who are missing the value for their depression score had actually chosen to take their own life before they had the chance to fill out the self-assessment. \n",
    "\n",
    "Knowing this new information, you go back and look at the other values of those people and find that they had greater overall TBI severity compared to others. Or perhaps you find that it actually has to do with the fact that they were younger on average than the other participants in the study. These are important things to consider. If you had just removed the rows altogether, you might find the data skewed in such a way that it looks like TBI severity is not as impactful as it is in reality. \n",
    "\n",
    "In reality, it is likely a combination of things that led to the ultimate outcome, and often times, the reason that data is missing will is likely to remain unknown. This is where Step 1 and Step 2 tend to blend together.\n",
    "\n",
    "**For our purposes, I will say that we don't have any information on why there are missing values. To keep the data from being skewed (and to keep things easy for us for right now), I am going to delete any instances (rows/individuals) where there are any missing values. (Later, we will work on using other methods to handle missing values)**"
   ]
  },
  {
   "cell_type": "code",
   "execution_count": 77,
   "id": "9650c17b",
   "metadata": {},
   "outputs": [
    {
     "data": {
      "text/html": [
       "<div>\n",
       "<style scoped>\n",
       "    .dataframe tbody tr th:only-of-type {\n",
       "        vertical-align: middle;\n",
       "    }\n",
       "\n",
       "    .dataframe tbody tr th {\n",
       "        vertical-align: top;\n",
       "    }\n",
       "\n",
       "    .dataframe thead th {\n",
       "        text-align: right;\n",
       "    }\n",
       "</style>\n",
       "<table border=\"1\" class=\"dataframe\">\n",
       "  <thead>\n",
       "    <tr style=\"text-align: right;\">\n",
       "      <th></th>\n",
       "      <th>Age</th>\n",
       "      <th>Gender</th>\n",
       "      <th>TBI_Severity</th>\n",
       "      <th>Suicide_Score</th>\n",
       "      <th>Depression_Score</th>\n",
       "    </tr>\n",
       "  </thead>\n",
       "  <tbody>\n",
       "    <tr>\n",
       "      <th>0</th>\n",
       "      <td>89.0</td>\n",
       "      <td>Male</td>\n",
       "      <td>Mild</td>\n",
       "      <td>9</td>\n",
       "      <td>3.5</td>\n",
       "    </tr>\n",
       "    <tr>\n",
       "      <th>2</th>\n",
       "      <td>26.0</td>\n",
       "      <td>Female</td>\n",
       "      <td>Severe</td>\n",
       "      <td>22</td>\n",
       "      <td>4.8</td>\n",
       "    </tr>\n",
       "    <tr>\n",
       "      <th>3</th>\n",
       "      <td>96.0</td>\n",
       "      <td>Female</td>\n",
       "      <td>Severe</td>\n",
       "      <td>21</td>\n",
       "      <td>6.2</td>\n",
       "    </tr>\n",
       "    <tr>\n",
       "      <th>4</th>\n",
       "      <td>35.0</td>\n",
       "      <td>Male</td>\n",
       "      <td>Mild</td>\n",
       "      <td>5</td>\n",
       "      <td>2.3</td>\n",
       "    </tr>\n",
       "    <tr>\n",
       "      <th>5</th>\n",
       "      <td>30.0</td>\n",
       "      <td>Female</td>\n",
       "      <td>Severe</td>\n",
       "      <td>22</td>\n",
       "      <td>4.9</td>\n",
       "    </tr>\n",
       "    <tr>\n",
       "      <th>...</th>\n",
       "      <td>...</td>\n",
       "      <td>...</td>\n",
       "      <td>...</td>\n",
       "      <td>...</td>\n",
       "      <td>...</td>\n",
       "    </tr>\n",
       "    <tr>\n",
       "      <th>94</th>\n",
       "      <td>80.0</td>\n",
       "      <td>Female</td>\n",
       "      <td>Mild</td>\n",
       "      <td>4</td>\n",
       "      <td>1.8</td>\n",
       "    </tr>\n",
       "    <tr>\n",
       "      <th>95</th>\n",
       "      <td>73.0</td>\n",
       "      <td>Male</td>\n",
       "      <td>Mild</td>\n",
       "      <td>4</td>\n",
       "      <td>3.0</td>\n",
       "    </tr>\n",
       "    <tr>\n",
       "      <th>97</th>\n",
       "      <td>65.0</td>\n",
       "      <td>Female</td>\n",
       "      <td>Severe</td>\n",
       "      <td>26</td>\n",
       "      <td>5.8</td>\n",
       "    </tr>\n",
       "    <tr>\n",
       "      <th>98</th>\n",
       "      <td>44.0</td>\n",
       "      <td>Male</td>\n",
       "      <td>Severe</td>\n",
       "      <td>29</td>\n",
       "      <td>6.8</td>\n",
       "    </tr>\n",
       "    <tr>\n",
       "      <th>99</th>\n",
       "      <td>69.0</td>\n",
       "      <td>Female</td>\n",
       "      <td>Mild</td>\n",
       "      <td>8</td>\n",
       "      <td>1.7</td>\n",
       "    </tr>\n",
       "  </tbody>\n",
       "</table>\n",
       "<p>91 rows × 5 columns</p>\n",
       "</div>"
      ],
      "text/plain": [
       "     Age  Gender TBI_Severity  Suicide_Score  Depression_Score\n",
       "0   89.0    Male         Mild              9               3.5\n",
       "2   26.0  Female       Severe             22               4.8\n",
       "3   96.0  Female       Severe             21               6.2\n",
       "4   35.0    Male         Mild              5               2.3\n",
       "5   30.0  Female       Severe             22               4.9\n",
       "..   ...     ...          ...            ...               ...\n",
       "94  80.0  Female         Mild              4               1.8\n",
       "95  73.0    Male         Mild              4               3.0\n",
       "97  65.0  Female       Severe             26               5.8\n",
       "98  44.0    Male       Severe             29               6.8\n",
       "99  69.0  Female         Mild              8               1.7\n",
       "\n",
       "[91 rows x 5 columns]"
      ]
     },
     "execution_count": 77,
     "metadata": {},
     "output_type": "execute_result"
    }
   ],
   "source": [
    "df.dropna(inplace=True)\n",
    "\n",
    "df"
   ]
  },
  {
   "cell_type": "markdown",
   "id": "25fa2769",
   "metadata": {},
   "source": [
    "Good. It looks like our missing values are all taken care of... however, I notice that we have another problem.\n",
    "\n",
    "**Our Gender and TBI Severity variables are categorical.**\n",
    "\n",
    "It will be difficult to perform mathematical analyses on them if they aren't represented as some meaningful number. This is where we talk about the process of **encoding**. Let's first take a look at Gender."
   ]
  },
  {
   "cell_type": "markdown",
   "id": "efd76d1a",
   "metadata": {},
   "source": [
    "**In this study, gender only has two values: Male and Female. This means that this categorical variable can be easily encoded with the binary values 0 and 1. So let's encode Men as 0 and Women as 1.**\n"
   ]
  },
  {
   "cell_type": "code",
   "execution_count": 78,
   "id": "442453b1",
   "metadata": {},
   "outputs": [
    {
     "name": "stdout",
     "output_type": "stream",
     "text": [
      "     Age  Gender TBI_Severity  Suicide_Score  Depression_Score\n",
      "0   89.0       0         Mild              9               3.5\n",
      "2   26.0       1       Severe             22               4.8\n",
      "3   96.0       1       Severe             21               6.2\n",
      "4   35.0       0         Mild              5               2.3\n",
      "5   30.0       1       Severe             22               4.9\n",
      "..   ...     ...          ...            ...               ...\n",
      "94  80.0       1         Mild              4               1.8\n",
      "95  73.0       0         Mild              4               3.0\n",
      "97  65.0       1       Severe             26               5.8\n",
      "98  44.0       0       Severe             29               6.8\n",
      "99  69.0       1         Mild              8               1.7\n",
      "\n",
      "[91 rows x 5 columns]\n"
     ]
    }
   ],
   "source": [
    "# create dictionary to map values to binary encoding\n",
    "gender_map = {'Male': 0, 'Female': 1}\n",
    "\n",
    "# apply mapping to 'Gender' column using the map function\n",
    "df['Gender'] = df['Gender'].map(gender_map)\n",
    "\n",
    "print(df)"
   ]
  },
  {
   "cell_type": "markdown",
   "id": "d1e30a76",
   "metadata": {},
   "source": [
    "That appears to have worked well. Now, every person who identified as male is encoded as 0, and every person who identified as female is encoded as 1. \n",
    "\n",
    "So far, so good. However, we still have to handle our TBI Severity variable, which is also categorical. The problem is here is that TBI severity can have three values, not two... so binary encoding will not work here. \n",
    "\n",
    "Instead we have some other options for how we might encode these values in some meaningful way. I will go over those later. One fairly common way to encode data is known as the \"one-hot encoding\" (a.k.a. \"Dummy encoding\") technique. We will cover this later.\n",
    "\n",
    "**However, our data have a meaningful direction to their values (mild is less than moderate, which is less than severe). Therefore, I think it will be best to use ordinal encoding.**"
   ]
  },
  {
   "cell_type": "code",
   "execution_count": 79,
   "id": "2dc78c03",
   "metadata": {},
   "outputs": [
    {
     "data": {
      "text/html": [
       "<div>\n",
       "<style scoped>\n",
       "    .dataframe tbody tr th:only-of-type {\n",
       "        vertical-align: middle;\n",
       "    }\n",
       "\n",
       "    .dataframe tbody tr th {\n",
       "        vertical-align: top;\n",
       "    }\n",
       "\n",
       "    .dataframe thead th {\n",
       "        text-align: right;\n",
       "    }\n",
       "</style>\n",
       "<table border=\"1\" class=\"dataframe\">\n",
       "  <thead>\n",
       "    <tr style=\"text-align: right;\">\n",
       "      <th></th>\n",
       "      <th>Age</th>\n",
       "      <th>Gender</th>\n",
       "      <th>TBI_Severity</th>\n",
       "      <th>Suicide_Score</th>\n",
       "      <th>Depression_Score</th>\n",
       "    </tr>\n",
       "  </thead>\n",
       "  <tbody>\n",
       "    <tr>\n",
       "      <th>0</th>\n",
       "      <td>89.0</td>\n",
       "      <td>0</td>\n",
       "      <td>0.0</td>\n",
       "      <td>9</td>\n",
       "      <td>3.5</td>\n",
       "    </tr>\n",
       "    <tr>\n",
       "      <th>2</th>\n",
       "      <td>26.0</td>\n",
       "      <td>1</td>\n",
       "      <td>2.0</td>\n",
       "      <td>22</td>\n",
       "      <td>4.8</td>\n",
       "    </tr>\n",
       "    <tr>\n",
       "      <th>3</th>\n",
       "      <td>96.0</td>\n",
       "      <td>1</td>\n",
       "      <td>2.0</td>\n",
       "      <td>21</td>\n",
       "      <td>6.2</td>\n",
       "    </tr>\n",
       "    <tr>\n",
       "      <th>4</th>\n",
       "      <td>35.0</td>\n",
       "      <td>0</td>\n",
       "      <td>0.0</td>\n",
       "      <td>5</td>\n",
       "      <td>2.3</td>\n",
       "    </tr>\n",
       "    <tr>\n",
       "      <th>5</th>\n",
       "      <td>30.0</td>\n",
       "      <td>1</td>\n",
       "      <td>2.0</td>\n",
       "      <td>22</td>\n",
       "      <td>4.9</td>\n",
       "    </tr>\n",
       "    <tr>\n",
       "      <th>...</th>\n",
       "      <td>...</td>\n",
       "      <td>...</td>\n",
       "      <td>...</td>\n",
       "      <td>...</td>\n",
       "      <td>...</td>\n",
       "    </tr>\n",
       "    <tr>\n",
       "      <th>94</th>\n",
       "      <td>80.0</td>\n",
       "      <td>1</td>\n",
       "      <td>0.0</td>\n",
       "      <td>4</td>\n",
       "      <td>1.8</td>\n",
       "    </tr>\n",
       "    <tr>\n",
       "      <th>95</th>\n",
       "      <td>73.0</td>\n",
       "      <td>0</td>\n",
       "      <td>0.0</td>\n",
       "      <td>4</td>\n",
       "      <td>3.0</td>\n",
       "    </tr>\n",
       "    <tr>\n",
       "      <th>97</th>\n",
       "      <td>65.0</td>\n",
       "      <td>1</td>\n",
       "      <td>2.0</td>\n",
       "      <td>26</td>\n",
       "      <td>5.8</td>\n",
       "    </tr>\n",
       "    <tr>\n",
       "      <th>98</th>\n",
       "      <td>44.0</td>\n",
       "      <td>0</td>\n",
       "      <td>2.0</td>\n",
       "      <td>29</td>\n",
       "      <td>6.8</td>\n",
       "    </tr>\n",
       "    <tr>\n",
       "      <th>99</th>\n",
       "      <td>69.0</td>\n",
       "      <td>1</td>\n",
       "      <td>0.0</td>\n",
       "      <td>8</td>\n",
       "      <td>1.7</td>\n",
       "    </tr>\n",
       "  </tbody>\n",
       "</table>\n",
       "<p>91 rows × 5 columns</p>\n",
       "</div>"
      ],
      "text/plain": [
       "     Age  Gender  TBI_Severity  Suicide_Score  Depression_Score\n",
       "0   89.0       0           0.0              9               3.5\n",
       "2   26.0       1           2.0             22               4.8\n",
       "3   96.0       1           2.0             21               6.2\n",
       "4   35.0       0           0.0              5               2.3\n",
       "5   30.0       1           2.0             22               4.9\n",
       "..   ...     ...           ...            ...               ...\n",
       "94  80.0       1           0.0              4               1.8\n",
       "95  73.0       0           0.0              4               3.0\n",
       "97  65.0       1           2.0             26               5.8\n",
       "98  44.0       0           2.0             29               6.8\n",
       "99  69.0       1           0.0              8               1.7\n",
       "\n",
       "[91 rows x 5 columns]"
      ]
     },
     "execution_count": 79,
     "metadata": {},
     "output_type": "execute_result"
    }
   ],
   "source": [
    "# Ordinal Encoding\n",
    "\n",
    "from sklearn.preprocessing import OrdinalEncoder\n",
    "\n",
    "# create an instance of the OrdinalEncoder\n",
    "encoder = OrdinalEncoder(categories=[['Mild', 'Moderate', 'Severe']])\n",
    "\n",
    "# fit the encoder to the 'TBI_Severity' column and transform the values to ordinal integers\n",
    "df['TBI_Severity'] = encoder.fit_transform(df[['TBI_Severity']])\n",
    "df"
   ]
  },
  {
   "cell_type": "code",
   "execution_count": 66,
   "id": "84b063a1",
   "metadata": {},
   "outputs": [
    {
     "name": "stdout",
     "output_type": "stream",
     "text": [
      "     Age  Gender TBI_Severity  Suicide_Score  Depression_Score  Mild  \\\n",
      "0   89.0       0         Mild              9               3.5     1   \n",
      "2   26.0       1       Severe             22               4.8     0   \n",
      "3   96.0       1       Severe             21               6.2     0   \n",
      "4   35.0       0         Mild              5               2.3     1   \n",
      "5   30.0       1       Severe             22               4.9     0   \n",
      "..   ...     ...          ...            ...               ...   ...   \n",
      "94  80.0       1         Mild              4               1.8     1   \n",
      "95  73.0       0         Mild              4               3.0     1   \n",
      "97  65.0       1       Severe             26               5.8     0   \n",
      "98  44.0       0       Severe             29               6.8     0   \n",
      "99  69.0       1         Mild              8               1.7     1   \n",
      "\n",
      "    Moderate  Severe  \n",
      "0          0       0  \n",
      "2          0       1  \n",
      "3          0       1  \n",
      "4          0       0  \n",
      "5          0       1  \n",
      "..       ...     ...  \n",
      "94         0       0  \n",
      "95         0       0  \n",
      "97         0       1  \n",
      "98         0       1  \n",
      "99         0       0  \n",
      "\n",
      "[91 rows x 8 columns]\n"
     ]
    }
   ],
   "source": [
    "# # One-Hot Encoding\n",
    "\n",
    "# # use pandas get_dummies function to create one-hot encoding\n",
    "# one_hot = pd.get_dummies(df['TBI_Severity'])\n",
    "\n",
    "# # join the one-hot encoded variables to the original dataframe\n",
    "# df = df.join(one_hot)\n",
    "\n",
    "# print(df)"
   ]
  },
  {
   "cell_type": "markdown",
   "id": "a9cb760f",
   "metadata": {},
   "source": [
    "### Great! Now all of our data appear to be useable for analyses! "
   ]
  },
  {
   "cell_type": "markdown",
   "id": "2953b38e",
   "metadata": {},
   "source": [
    "Let's assume that we are finished with the preprocessing stage of analyses. We resolved missing data, and we found no duplicates or outliers. All of our categorical variables are properly encoded. Time to move on to the next step!"
   ]
  },
  {
   "cell_type": "markdown",
   "id": "3effb7bb",
   "metadata": {},
   "source": [
    "## Step 3. Explore the data."
   ]
  },
  {
   "cell_type": "markdown",
   "id": "ef8af95d",
   "metadata": {},
   "source": [
    "Before we continue, let's take a moment to back up and look at the data again, before we had made any changes..."
   ]
  },
  {
   "cell_type": "code",
   "execution_count": 81,
   "id": "da27cf72",
   "metadata": {},
   "outputs": [
    {
     "data": {
      "text/html": [
       "<div>\n",
       "<style scoped>\n",
       "    .dataframe tbody tr th:only-of-type {\n",
       "        vertical-align: middle;\n",
       "    }\n",
       "\n",
       "    .dataframe tbody tr th {\n",
       "        vertical-align: top;\n",
       "    }\n",
       "\n",
       "    .dataframe thead th {\n",
       "        text-align: right;\n",
       "    }\n",
       "</style>\n",
       "<table border=\"1\" class=\"dataframe\">\n",
       "  <thead>\n",
       "    <tr style=\"text-align: right;\">\n",
       "      <th></th>\n",
       "      <th>Age</th>\n",
       "      <th>Gender</th>\n",
       "      <th>TBI_Severity</th>\n",
       "      <th>Suicide_Score</th>\n",
       "      <th>Depression_Score</th>\n",
       "    </tr>\n",
       "  </thead>\n",
       "  <tbody>\n",
       "    <tr>\n",
       "      <th>0</th>\n",
       "      <td>89.0</td>\n",
       "      <td>Male</td>\n",
       "      <td>Mild</td>\n",
       "      <td>9.0</td>\n",
       "      <td>3.5</td>\n",
       "    </tr>\n",
       "    <tr>\n",
       "      <th>1</th>\n",
       "      <td>98.0</td>\n",
       "      <td>Female</td>\n",
       "      <td>NaN</td>\n",
       "      <td>25.0</td>\n",
       "      <td>6.4</td>\n",
       "    </tr>\n",
       "    <tr>\n",
       "      <th>2</th>\n",
       "      <td>NaN</td>\n",
       "      <td>Female</td>\n",
       "      <td>Severe</td>\n",
       "      <td>NaN</td>\n",
       "      <td>4.8</td>\n",
       "    </tr>\n",
       "    <tr>\n",
       "      <th>3</th>\n",
       "      <td>96.0</td>\n",
       "      <td>Female</td>\n",
       "      <td>Severe</td>\n",
       "      <td>21.0</td>\n",
       "      <td>6.2</td>\n",
       "    </tr>\n",
       "    <tr>\n",
       "      <th>4</th>\n",
       "      <td>35.0</td>\n",
       "      <td>Male</td>\n",
       "      <td>Mild</td>\n",
       "      <td>5.0</td>\n",
       "      <td>2.3</td>\n",
       "    </tr>\n",
       "  </tbody>\n",
       "</table>\n",
       "</div>"
      ],
      "text/plain": [
       "    Age  Gender TBI_Severity  Suicide_Score  Depression_Score\n",
       "0  89.0    Male         Mild            9.0               3.5\n",
       "1  98.0  Female          NaN           25.0               6.4\n",
       "2   NaN  Female       Severe            NaN               4.8\n",
       "3  96.0  Female       Severe           21.0               6.2\n",
       "4  35.0    Male         Mild            5.0               2.3"
      ]
     },
     "execution_count": 81,
     "metadata": {},
     "output_type": "execute_result"
    }
   ],
   "source": [
    "df = pd.read_excel(\"multi_suicide.xlsx\")\n",
    "df.head()"
   ]
  },
  {
   "cell_type": "markdown",
   "id": "7f8c2dca",
   "metadata": {},
   "source": [
    "Now, we can see that our missing variables have returned. \n",
    "\n",
    "Sometimes, it will make sense to remove the row entirely, especially if we have reason to believe that there may be something wrong with that participant's data. However, other times we don't want to throw it all out just because something is missing. The remaining information may still be useful. \n",
    "\n",
    "Let's take a look at **participant number 2** for example... notice that she is missing the value for her age. We know everything else about her, and her age may not be the most useful bit of information. Let's take a look at the distribution of ages among our participants."
   ]
  },
  {
   "cell_type": "code",
   "execution_count": 82,
   "id": "172716a2",
   "metadata": {
    "scrolled": true
   },
   "outputs": [
    {
     "data": {
      "image/png": "[encoded data removed]",
      "text/plain": [
       "<Figure size 640x480 with 1 Axes>"
      ]
     },
     "metadata": {},
     "output_type": "display_data"
    }
   ],
   "source": [
    "# Select the Age column and drop any rows with missing values\n",
    "ages = df['Age'].dropna()\n",
    "\n",
    "# Plot a histogram of the age distribution\n",
    "plt.hist(ages, bins=20)\n",
    "plt.xlabel(\"Age\")\n",
    "plt.ylabel(\"Count\")\n",
    "plt.title(\"Age Distribution\")\n",
    "plt.show()"
   ]
  },
  {
   "cell_type": "markdown",
   "id": "1ec20584",
   "metadata": {},
   "source": [
    "There appears to be a somewhat random distribution of ages. This does not appear to be a normal distribution. However, we do have an option available to use that is robust, meaning it will not be affected by outliers or the shape of the distribution. \n",
    "\n",
    "Our answer here is to **replace our missing age values with the median age**. \n",
    "\n",
    "First, let's take a look at what our median age is."
   ]
  },
  {
   "cell_type": "code",
   "execution_count": 83,
   "id": "3e9eb8c7",
   "metadata": {},
   "outputs": [
    {
     "data": {
      "text/plain": [
       "59.0"
      ]
     },
     "execution_count": 83,
     "metadata": {},
     "output_type": "execute_result"
    }
   ],
   "source": [
    "df['Age'].median()"
   ]
  },
  {
   "cell_type": "markdown",
   "id": "ed1b68ed",
   "metadata": {},
   "source": [
    "Okay, now that we know what it is, let's use it to substitute our missing values."
   ]
  },
  {
   "cell_type": "code",
   "execution_count": 84,
   "id": "c2175b76",
   "metadata": {
    "scrolled": true
   },
   "outputs": [
    {
     "data": {
      "text/html": [
       "<div>\n",
       "<style scoped>\n",
       "    .dataframe tbody tr th:only-of-type {\n",
       "        vertical-align: middle;\n",
       "    }\n",
       "\n",
       "    .dataframe tbody tr th {\n",
       "        vertical-align: top;\n",
       "    }\n",
       "\n",
       "    .dataframe thead th {\n",
       "        text-align: right;\n",
       "    }\n",
       "</style>\n",
       "<table border=\"1\" class=\"dataframe\">\n",
       "  <thead>\n",
       "    <tr style=\"text-align: right;\">\n",
       "      <th></th>\n",
       "      <th>Age</th>\n",
       "      <th>Gender</th>\n",
       "      <th>TBI_Severity</th>\n",
       "      <th>Suicide_Score</th>\n",
       "      <th>Depression_Score</th>\n",
       "    </tr>\n",
       "  </thead>\n",
       "  <tbody>\n",
       "    <tr>\n",
       "      <th>0</th>\n",
       "      <td>89.0</td>\n",
       "      <td>Male</td>\n",
       "      <td>Mild</td>\n",
       "      <td>9.0</td>\n",
       "      <td>3.5</td>\n",
       "    </tr>\n",
       "    <tr>\n",
       "      <th>1</th>\n",
       "      <td>98.0</td>\n",
       "      <td>Female</td>\n",
       "      <td>NaN</td>\n",
       "      <td>25.0</td>\n",
       "      <td>6.4</td>\n",
       "    </tr>\n",
       "    <tr>\n",
       "      <th>2</th>\n",
       "      <td>59.0</td>\n",
       "      <td>Female</td>\n",
       "      <td>Severe</td>\n",
       "      <td>NaN</td>\n",
       "      <td>4.8</td>\n",
       "    </tr>\n",
       "    <tr>\n",
       "      <th>3</th>\n",
       "      <td>96.0</td>\n",
       "      <td>Female</td>\n",
       "      <td>Severe</td>\n",
       "      <td>21.0</td>\n",
       "      <td>6.2</td>\n",
       "    </tr>\n",
       "    <tr>\n",
       "      <th>4</th>\n",
       "      <td>35.0</td>\n",
       "      <td>Male</td>\n",
       "      <td>Mild</td>\n",
       "      <td>5.0</td>\n",
       "      <td>2.3</td>\n",
       "    </tr>\n",
       "  </tbody>\n",
       "</table>\n",
       "</div>"
      ],
      "text/plain": [
       "    Age  Gender TBI_Severity  Suicide_Score  Depression_Score\n",
       "0  89.0    Male         Mild            9.0               3.5\n",
       "1  98.0  Female          NaN           25.0               6.4\n",
       "2  59.0  Female       Severe            NaN               4.8\n",
       "3  96.0  Female       Severe           21.0               6.2\n",
       "4  35.0    Male         Mild            5.0               2.3"
      ]
     },
     "execution_count": 84,
     "metadata": {},
     "output_type": "execute_result"
    }
   ],
   "source": [
    "median_age = df['Age'].median()\n",
    "df['Age'].fillna(median_age, inplace=True)\n",
    "df.head()"
   ]
  },
  {
   "cell_type": "markdown",
   "id": "ab7ee344",
   "metadata": {},
   "source": [
    "Great! Notice that participant number 2 now has an age equal to the median value!\n",
    "\n",
    "However, we still have a problem. Notice that **TBI Severity** is also missing values. However, this variable is categorical. One nice thing that makes the process a little simpler is that this variable's levels are ordinal, meaning there is a directionality to the levels of the variable (Mild is less than Moderate which is less than Severe). \n",
    "\n",
    "The best way to go about replacing missing variables here will likely be to replace the ones that are missing with whichever option appears the most.  \n",
    "\n",
    "Keep in mind that if you have non-numerical data like we do, you can use the mode as I have done below. However, if you first convert the column into numerical data (like we did before), you can also replace missing values with the median instead. Let's see how the two differ."
   ]
  },
  {
   "cell_type": "code",
   "execution_count": 85,
   "id": "f5fba017",
   "metadata": {},
   "outputs": [
    {
     "data": {
      "text/plain": [
       "0    Mild\n",
       "Name: TBI_Severity, dtype: object"
      ]
     },
     "execution_count": 85,
     "metadata": {},
     "output_type": "execute_result"
    }
   ],
   "source": [
    "df['TBI_Severity'].mode()"
   ]
  },
  {
   "cell_type": "markdown",
   "id": "da6027e6",
   "metadata": {},
   "source": [
    "It says that 'Mild' is the most common TBI_Severity. If we quickly encode the levels numerically, we can try to use the median instead. Let's see how that looks. First, encode the variables numerically:"
   ]
  },
  {
   "cell_type": "code",
   "execution_count": 86,
   "id": "0f2f79f7",
   "metadata": {
    "scrolled": true
   },
   "outputs": [
    {
     "name": "stdout",
     "output_type": "stream",
     "text": [
      "     Age  Gender  TBI_Severity  Suicide_Score  Depression_Score\n",
      "0   89.0    Male           1.0            9.0               3.5\n",
      "1   98.0  Female           NaN           25.0               6.4\n",
      "2   59.0  Female           3.0            NaN               4.8\n",
      "3   96.0  Female           3.0           21.0               6.2\n",
      "4   35.0    Male           1.0            5.0               2.3\n",
      "..   ...     ...           ...            ...               ...\n",
      "95  73.0    Male           1.0            4.0               3.0\n",
      "96  97.0    Male           1.0            3.0               NaN\n",
      "97  65.0  Female           3.0           26.0               5.8\n",
      "98  44.0    Male           3.0           29.0               6.8\n",
      "99  69.0  Female           1.0            8.0               1.7\n",
      "\n",
      "[100 rows x 5 columns]\n"
     ]
    }
   ],
   "source": [
    "severity_mapping = {'Mild': 1, 'Moderate': 2, 'Severe': 3}\n",
    "\n",
    "# Replace the categorical values with numerical values\n",
    "df['TBI_Severity'] = df['TBI_Severity'].replace(severity_mapping)\n",
    "\n",
    "# Print the updated data\n",
    "print(df)"
   ]
  },
  {
   "cell_type": "markdown",
   "id": "0345e938",
   "metadata": {},
   "source": [
    "Now, find the median..."
   ]
  },
  {
   "cell_type": "code",
   "execution_count": 87,
   "id": "fc76108d",
   "metadata": {},
   "outputs": [
    {
     "data": {
      "text/plain": [
       "2.0"
      ]
     },
     "execution_count": 87,
     "metadata": {},
     "output_type": "execute_result"
    }
   ],
   "source": [
    "df['TBI_Severity'].median()"
   ]
  },
  {
   "cell_type": "markdown",
   "id": "8f9124b5",
   "metadata": {},
   "source": [
    "Notice we have two different outcomes, so what we choose to do matters. When we took the most common instance, we found that 'Mild' was the most likely to occur. However, when we try to take the middle value, we were practically destined to pick 2.0 (equivalent to 'Moderate'), unless the data are **HEAVILY SKEWED** one way or another. \n",
    "\n",
    "To me, it makes more sense to replace the missing values with the most common occurance. So let's do that."
   ]
  },
  {
   "cell_type": "code",
   "execution_count": 88,
   "id": "a2efd09d",
   "metadata": {
    "scrolled": false
   },
   "outputs": [
    {
     "data": {
      "text/html": [
       "<div>\n",
       "<style scoped>\n",
       "    .dataframe tbody tr th:only-of-type {\n",
       "        vertical-align: middle;\n",
       "    }\n",
       "\n",
       "    .dataframe tbody tr th {\n",
       "        vertical-align: top;\n",
       "    }\n",
       "\n",
       "    .dataframe thead th {\n",
       "        text-align: right;\n",
       "    }\n",
       "</style>\n",
       "<table border=\"1\" class=\"dataframe\">\n",
       "  <thead>\n",
       "    <tr style=\"text-align: right;\">\n",
       "      <th></th>\n",
       "      <th>Age</th>\n",
       "      <th>Gender</th>\n",
       "      <th>TBI_Severity</th>\n",
       "      <th>Suicide_Score</th>\n",
       "      <th>Depression_Score</th>\n",
       "    </tr>\n",
       "  </thead>\n",
       "  <tbody>\n",
       "    <tr>\n",
       "      <th>0</th>\n",
       "      <td>89.0</td>\n",
       "      <td>Male</td>\n",
       "      <td>1.0</td>\n",
       "      <td>9.0</td>\n",
       "      <td>3.5</td>\n",
       "    </tr>\n",
       "    <tr>\n",
       "      <th>1</th>\n",
       "      <td>98.0</td>\n",
       "      <td>Female</td>\n",
       "      <td>1.0</td>\n",
       "      <td>25.0</td>\n",
       "      <td>6.4</td>\n",
       "    </tr>\n",
       "    <tr>\n",
       "      <th>2</th>\n",
       "      <td>59.0</td>\n",
       "      <td>Female</td>\n",
       "      <td>3.0</td>\n",
       "      <td>NaN</td>\n",
       "      <td>4.8</td>\n",
       "    </tr>\n",
       "    <tr>\n",
       "      <th>3</th>\n",
       "      <td>96.0</td>\n",
       "      <td>Female</td>\n",
       "      <td>3.0</td>\n",
       "      <td>21.0</td>\n",
       "      <td>6.2</td>\n",
       "    </tr>\n",
       "    <tr>\n",
       "      <th>4</th>\n",
       "      <td>35.0</td>\n",
       "      <td>Male</td>\n",
       "      <td>1.0</td>\n",
       "      <td>5.0</td>\n",
       "      <td>2.3</td>\n",
       "    </tr>\n",
       "  </tbody>\n",
       "</table>\n",
       "</div>"
      ],
      "text/plain": [
       "    Age  Gender  TBI_Severity  Suicide_Score  Depression_Score\n",
       "0  89.0    Male           1.0            9.0               3.5\n",
       "1  98.0  Female           1.0           25.0               6.4\n",
       "2  59.0  Female           3.0            NaN               4.8\n",
       "3  96.0  Female           3.0           21.0               6.2\n",
       "4  35.0    Male           1.0            5.0               2.3"
      ]
     },
     "execution_count": 88,
     "metadata": {},
     "output_type": "execute_result"
    }
   ],
   "source": [
    "df['TBI_Severity'].fillna(df['TBI_Severity'].mode()[0], inplace=True)\n",
    "df.head()"
   ]
  },
  {
   "cell_type": "markdown",
   "id": "7a8b31a1",
   "metadata": {},
   "source": [
    "**Note:** there is some risk to this approach, in that if there is a systematic reason that the values are missing, then the data will be skewed away from the truth. If that is the case, then replacing these values with the most common value may skew the data even further from the truth. \n",
    "\n",
    "However, if the missing values are just missing at random (usually the case), then there should be no problem.\n",
    "\n",
    "Our variable is still encoded numerically, which is a good thing because we need it to be in order to make any sense of the data, statistically.  "
   ]
  },
  {
   "cell_type": "markdown",
   "id": "7c1fa01a",
   "metadata": {},
   "source": [
    "**Just to get it out of the way, let's use binary encoding to switch gender over to numerical data as well.**"
   ]
  },
  {
   "cell_type": "code",
   "execution_count": 89,
   "id": "39b9827e",
   "metadata": {},
   "outputs": [
    {
     "data": {
      "text/html": [
       "<div>\n",
       "<style scoped>\n",
       "    .dataframe tbody tr th:only-of-type {\n",
       "        vertical-align: middle;\n",
       "    }\n",
       "\n",
       "    .dataframe tbody tr th {\n",
       "        vertical-align: top;\n",
       "    }\n",
       "\n",
       "    .dataframe thead th {\n",
       "        text-align: right;\n",
       "    }\n",
       "</style>\n",
       "<table border=\"1\" class=\"dataframe\">\n",
       "  <thead>\n",
       "    <tr style=\"text-align: right;\">\n",
       "      <th></th>\n",
       "      <th>Age</th>\n",
       "      <th>Gender</th>\n",
       "      <th>TBI_Severity</th>\n",
       "      <th>Suicide_Score</th>\n",
       "      <th>Depression_Score</th>\n",
       "    </tr>\n",
       "  </thead>\n",
       "  <tbody>\n",
       "    <tr>\n",
       "      <th>0</th>\n",
       "      <td>89.0</td>\n",
       "      <td>0</td>\n",
       "      <td>1.0</td>\n",
       "      <td>9.0</td>\n",
       "      <td>3.5</td>\n",
       "    </tr>\n",
       "    <tr>\n",
       "      <th>1</th>\n",
       "      <td>98.0</td>\n",
       "      <td>1</td>\n",
       "      <td>1.0</td>\n",
       "      <td>25.0</td>\n",
       "      <td>6.4</td>\n",
       "    </tr>\n",
       "    <tr>\n",
       "      <th>2</th>\n",
       "      <td>59.0</td>\n",
       "      <td>1</td>\n",
       "      <td>3.0</td>\n",
       "      <td>NaN</td>\n",
       "      <td>4.8</td>\n",
       "    </tr>\n",
       "    <tr>\n",
       "      <th>3</th>\n",
       "      <td>96.0</td>\n",
       "      <td>1</td>\n",
       "      <td>3.0</td>\n",
       "      <td>21.0</td>\n",
       "      <td>6.2</td>\n",
       "    </tr>\n",
       "    <tr>\n",
       "      <th>4</th>\n",
       "      <td>35.0</td>\n",
       "      <td>0</td>\n",
       "      <td>1.0</td>\n",
       "      <td>5.0</td>\n",
       "      <td>2.3</td>\n",
       "    </tr>\n",
       "  </tbody>\n",
       "</table>\n",
       "</div>"
      ],
      "text/plain": [
       "    Age  Gender  TBI_Severity  Suicide_Score  Depression_Score\n",
       "0  89.0       0           1.0            9.0               3.5\n",
       "1  98.0       1           1.0           25.0               6.4\n",
       "2  59.0       1           3.0            NaN               4.8\n",
       "3  96.0       1           3.0           21.0               6.2\n",
       "4  35.0       0           1.0            5.0               2.3"
      ]
     },
     "execution_count": 89,
     "metadata": {},
     "output_type": "execute_result"
    }
   ],
   "source": [
    "# Encode Gender as binary\n",
    "df['Gender'] = pd.factorize(df['Gender'])[0]\n",
    "df.head()"
   ]
  },
  {
   "cell_type": "markdown",
   "id": "b67981ac",
   "metadata": {},
   "source": [
    "Finally, we need to handle the missing values for 'Suicide_Score' and 'Depression_Score'... however, these numbers are highly variable.\n",
    "\n",
    "It may be in your best interest to remove these participants altogether because arguably those scores are more important parts of the data regarding the problem we are trying to solve. \n",
    "\n",
    "However, if we have the time and feel that it is of value for us to replace these values with a \"best guess\", we can implement machine learning to impute the missing values based on the information available to us from the other variables. **This may be particularly useful if you do not have many participants, or if it is vital that you retain all the participants in your data for whatever reason.**"
   ]
  },
  {
   "cell_type": "markdown",
   "id": "cbfbf21e",
   "metadata": {},
   "source": [
    "### Using machine learning on the data that you do have to predict the data that you don't have."
   ]
  },
  {
   "cell_type": "code",
   "execution_count": 90,
   "id": "371abd33",
   "metadata": {},
   "outputs": [
    {
     "name": "stdout",
     "output_type": "stream",
     "text": [
      "Imputed data for Suicide_Score:\n",
      "      Age  Gender  TBI_Severity  Suicide_Score\n",
      "0   89.0     0.0           1.0            9.0\n",
      "1   98.0     1.0           1.0           25.0\n",
      "2   96.0     1.0           3.0           21.0\n",
      "3   35.0     0.0           1.0            5.0\n",
      "4   30.0     1.0           3.0           22.0\n",
      "..   ...     ...           ...            ...\n",
      "90  80.0     1.0           1.0            4.0\n",
      "91  73.0     0.0           1.0            4.0\n",
      "92  65.0     1.0           3.0           26.0\n",
      "93  44.0     0.0           3.0           29.0\n",
      "94  69.0     1.0           1.0            8.0\n",
      "\n",
      "[95 rows x 4 columns]\n",
      "Imputed data for Depression_Score:\n",
      "      Age  Gender  TBI_Severity  Depression_Score\n",
      "0   89.0     0.0           1.0               3.5\n",
      "1   98.0     1.0           1.0               6.4\n",
      "2   96.0     1.0           3.0               6.2\n",
      "3   35.0     0.0           1.0               2.3\n",
      "4   30.0     1.0           3.0               4.9\n",
      "..   ...     ...           ...               ...\n",
      "90  80.0     1.0           1.0               1.8\n",
      "91  73.0     0.0           1.0               3.0\n",
      "92  65.0     1.0           3.0               5.8\n",
      "93  44.0     0.0           3.0               6.8\n",
      "94  69.0     1.0           1.0               1.7\n",
      "\n",
      "[95 rows x 4 columns]\n"
     ]
    }
   ],
   "source": [
    "from sklearn.ensemble import RandomForestRegressor\n",
    "from sklearn.impute import IterativeImputer\n",
    "from sklearn.experimental import enable_iterative_imputer\n",
    "\n",
    "# Create a new DataFrame without missing values\n",
    "notnull = df.dropna()\n",
    "\n",
    "# Split the data into training and test sets\n",
    "X_train = notnull[['Age', 'Gender', 'TBI_Severity', 'Suicide_Score', 'Depression_Score']]\n",
    "y_train_suicide = notnull['Suicide_Score']\n",
    "y_train_depression = notnull['Depression_Score']\n",
    "\n",
    "# Create the imputer\n",
    "imputer = IterativeImputer(estimator=RandomForestRegressor(), random_state=0)\n",
    "\n",
    "# Fit and transform the imputer\n",
    "imputed_data1 = imputer.fit_transform(X_train[['Age', 'Gender', 'TBI_Severity', 'Suicide_Score']])\n",
    "imputed_data2 = imputer.fit_transform(X_train[['Age', 'Gender', 'TBI_Severity', 'Depression_Score']])\n",
    "\n",
    "# Rename the columns in the imputed data\n",
    "imputed_data1 = pd.DataFrame(imputed_data1, columns=['Age', 'Gender', 'TBI_Severity', 'Suicide_Score'])\n",
    "imputed_data2 = pd.DataFrame(imputed_data2, columns=['Age', 'Gender', 'TBI_Severity', 'Depression_Score'])\n",
    "\n",
    "# Print out the imputed data\n",
    "print(\"Imputed data for Suicide_Score:\\n\", imputed_data1)\n",
    "print(\"Imputed data for Depression_Score:\\n\", imputed_data2)"
   ]
  },
  {
   "cell_type": "code",
   "execution_count": 91,
   "id": "73b90fa5",
   "metadata": {},
   "outputs": [
    {
     "data": {
      "text/html": [
       "<div>\n",
       "<style scoped>\n",
       "    .dataframe tbody tr th:only-of-type {\n",
       "        vertical-align: middle;\n",
       "    }\n",
       "\n",
       "    .dataframe tbody tr th {\n",
       "        vertical-align: top;\n",
       "    }\n",
       "\n",
       "    .dataframe thead th {\n",
       "        text-align: right;\n",
       "    }\n",
       "</style>\n",
       "<table border=\"1\" class=\"dataframe\">\n",
       "  <thead>\n",
       "    <tr style=\"text-align: right;\">\n",
       "      <th></th>\n",
       "      <th>Age</th>\n",
       "      <th>Gender</th>\n",
       "      <th>TBI_Severity</th>\n",
       "      <th>Suicide_Score</th>\n",
       "      <th>Depression_Score</th>\n",
       "    </tr>\n",
       "  </thead>\n",
       "  <tbody>\n",
       "    <tr>\n",
       "      <th>0</th>\n",
       "      <td>89.0</td>\n",
       "      <td>0</td>\n",
       "      <td>1.0</td>\n",
       "      <td>9.000000</td>\n",
       "      <td>3.50</td>\n",
       "    </tr>\n",
       "    <tr>\n",
       "      <th>1</th>\n",
       "      <td>98.0</td>\n",
       "      <td>1</td>\n",
       "      <td>1.0</td>\n",
       "      <td>25.000000</td>\n",
       "      <td>6.40</td>\n",
       "    </tr>\n",
       "    <tr>\n",
       "      <th>2</th>\n",
       "      <td>59.0</td>\n",
       "      <td>1</td>\n",
       "      <td>3.0</td>\n",
       "      <td>22.868667</td>\n",
       "      <td>4.80</td>\n",
       "    </tr>\n",
       "    <tr>\n",
       "      <th>3</th>\n",
       "      <td>96.0</td>\n",
       "      <td>1</td>\n",
       "      <td>3.0</td>\n",
       "      <td>21.000000</td>\n",
       "      <td>6.20</td>\n",
       "    </tr>\n",
       "    <tr>\n",
       "      <th>4</th>\n",
       "      <td>35.0</td>\n",
       "      <td>0</td>\n",
       "      <td>1.0</td>\n",
       "      <td>5.000000</td>\n",
       "      <td>2.30</td>\n",
       "    </tr>\n",
       "    <tr>\n",
       "      <th>...</th>\n",
       "      <td>...</td>\n",
       "      <td>...</td>\n",
       "      <td>...</td>\n",
       "      <td>...</td>\n",
       "      <td>...</td>\n",
       "    </tr>\n",
       "    <tr>\n",
       "      <th>95</th>\n",
       "      <td>73.0</td>\n",
       "      <td>0</td>\n",
       "      <td>1.0</td>\n",
       "      <td>4.000000</td>\n",
       "      <td>3.00</td>\n",
       "    </tr>\n",
       "    <tr>\n",
       "      <th>96</th>\n",
       "      <td>97.0</td>\n",
       "      <td>0</td>\n",
       "      <td>1.0</td>\n",
       "      <td>3.000000</td>\n",
       "      <td>3.11</td>\n",
       "    </tr>\n",
       "    <tr>\n",
       "      <th>97</th>\n",
       "      <td>65.0</td>\n",
       "      <td>1</td>\n",
       "      <td>3.0</td>\n",
       "      <td>26.000000</td>\n",
       "      <td>5.80</td>\n",
       "    </tr>\n",
       "    <tr>\n",
       "      <th>98</th>\n",
       "      <td>44.0</td>\n",
       "      <td>0</td>\n",
       "      <td>3.0</td>\n",
       "      <td>29.000000</td>\n",
       "      <td>6.80</td>\n",
       "    </tr>\n",
       "    <tr>\n",
       "      <th>99</th>\n",
       "      <td>69.0</td>\n",
       "      <td>1</td>\n",
       "      <td>1.0</td>\n",
       "      <td>8.000000</td>\n",
       "      <td>1.70</td>\n",
       "    </tr>\n",
       "  </tbody>\n",
       "</table>\n",
       "<p>100 rows × 5 columns</p>\n",
       "</div>"
      ],
      "text/plain": [
       "     Age  Gender  TBI_Severity  Suicide_Score  Depression_Score\n",
       "0   89.0       0           1.0       9.000000              3.50\n",
       "1   98.0       1           1.0      25.000000              6.40\n",
       "2   59.0       1           3.0      22.868667              4.80\n",
       "3   96.0       1           3.0      21.000000              6.20\n",
       "4   35.0       0           1.0       5.000000              2.30\n",
       "..   ...     ...           ...            ...               ...\n",
       "95  73.0       0           1.0       4.000000              3.00\n",
       "96  97.0       0           1.0       3.000000              3.11\n",
       "97  65.0       1           3.0      26.000000              5.80\n",
       "98  44.0       0           3.0      29.000000              6.80\n",
       "99  69.0       1           1.0       8.000000              1.70\n",
       "\n",
       "[100 rows x 5 columns]"
      ]
     },
     "execution_count": 91,
     "metadata": {},
     "output_type": "execute_result"
    }
   ],
   "source": [
    "# Fit the imputer to the original data\n",
    "imputer.fit(df)\n",
    "\n",
    "# Impute missing values in the original data\n",
    "imputed_data = imputer.transform(df)\n",
    "\n",
    "# Create a new DataFrame with the imputed data\n",
    "imputed_df = pd.DataFrame(imputed_data, columns=df.columns)\n",
    "\n",
    "# Replace missing values in the original DataFrame with the imputed values\n",
    "df[['Suicide_Score', 'Depression_Score']] = imputed_df[['Suicide_Score', 'Depression_Score']]\n",
    "\n",
    "df"
   ]
  },
  {
   "cell_type": "markdown",
   "id": "3cd0fdd4",
   "metadata": {},
   "source": [
    "**It looks like all ov our missing values have been resolved, and we got to keep all 100 of our participants! Not only that, but our variables are all encoded in a way that makes them useable for analyses. SUCCESS!**\n",
    "\n",
    "But our job is not over yet. There is more work to do."
   ]
  },
  {
   "cell_type": "markdown",
   "id": "0b5d63ab",
   "metadata": {},
   "source": [
    "## 4. Train the Model"
   ]
  },
  {
   "cell_type": "markdown",
   "id": "fb2186f8",
   "metadata": {},
   "source": [
    "Our data frame looks good and we are ready to train our model. The first thing we need to do is create a linear regression object."
   ]
  },
  {
   "cell_type": "code",
   "execution_count": 92,
   "id": "d036e5d9",
   "metadata": {},
   "outputs": [
    {
     "data": {
      "text/html": [
       "<style>#sk-container-id-3 {color: black;background-color: white;}#sk-container-id-3 pre{padding: 0;}#sk-container-id-3 div.sk-toggleable {background-color: white;}#sk-container-id-3 label.sk-toggleable__label {cursor: pointer;display: block;width: 100%;margin-bottom: 0;padding: 0.3em;box-sizing: border-box;text-align: center;}#sk-container-id-3 label.sk-toggleable__label-arrow:before {content: \"▸\";float: left;margin-right: 0.25em;color: #696969;}#sk-container-id-3 label.sk-toggleable__label-arrow:hover:before {color: black;}#sk-container-id-3 div.sk-estimator:hover label.sk-toggleable__label-arrow:before {color: black;}#sk-container-id-3 div.sk-toggleable__content {max-height: 0;max-width: 0;overflow: hidden;text-align: left;background-color: #f0f8ff;}#sk-container-id-3 div.sk-toggleable__content pre {margin: 0.2em;color: black;border-radius: 0.25em;background-color: #f0f8ff;}#sk-container-id-3 input.sk-toggleable__control:checked~div.sk-toggleable__content {max-height: 200px;max-width: 100%;overflow: auto;}#sk-container-id-3 input.sk-toggleable__control:checked~label.sk-toggleable__label-arrow:before {content: \"▾\";}#sk-container-id-3 div.sk-estimator input.sk-toggleable__control:checked~label.sk-toggleable__label {background-color: #d4ebff;}#sk-container-id-3 div.sk-label input.sk-toggleable__control:checked~label.sk-toggleable__label {background-color: #d4ebff;}#sk-container-id-3 input.sk-hidden--visually {border: 0;clip: rect(1px 1px 1px 1px);clip: rect(1px, 1px, 1px, 1px);height: 1px;margin: -1px;overflow: hidden;padding: 0;position: absolute;width: 1px;}#sk-container-id-3 div.sk-estimator {font-family: monospace;background-color: #f0f8ff;border: 1px dotted black;border-radius: 0.25em;box-sizing: border-box;margin-bottom: 0.5em;}#sk-container-id-3 div.sk-estimator:hover {background-color: #d4ebff;}#sk-container-id-3 div.sk-parallel-item::after {content: \"\";width: 100%;border-bottom: 1px solid gray;flex-grow: 1;}#sk-container-id-3 div.sk-label:hover label.sk-toggleable__label {background-color: #d4ebff;}#sk-container-id-3 div.sk-serial::before {content: \"\";position: absolute;border-left: 1px solid gray;box-sizing: border-box;top: 0;bottom: 0;left: 50%;z-index: 0;}#sk-container-id-3 div.sk-serial {display: flex;flex-direction: column;align-items: center;background-color: white;padding-right: 0.2em;padding-left: 0.2em;position: relative;}#sk-container-id-3 div.sk-item {position: relative;z-index: 1;}#sk-container-id-3 div.sk-parallel {display: flex;align-items: stretch;justify-content: center;background-color: white;position: relative;}#sk-container-id-3 div.sk-item::before, #sk-container-id-3 div.sk-parallel-item::before {content: \"\";position: absolute;border-left: 1px solid gray;box-sizing: border-box;top: 0;bottom: 0;left: 50%;z-index: -1;}#sk-container-id-3 div.sk-parallel-item {display: flex;flex-direction: column;z-index: 1;position: relative;background-color: white;}#sk-container-id-3 div.sk-parallel-item:first-child::after {align-self: flex-end;width: 50%;}#sk-container-id-3 div.sk-parallel-item:last-child::after {align-self: flex-start;width: 50%;}#sk-container-id-3 div.sk-parallel-item:only-child::after {width: 0;}#sk-container-id-3 div.sk-dashed-wrapped {border: 1px dashed gray;margin: 0 0.4em 0.5em 0.4em;box-sizing: border-box;padding-bottom: 0.4em;background-color: white;}#sk-container-id-3 div.sk-label label {font-family: monospace;font-weight: bold;display: inline-block;line-height: 1.2em;}#sk-container-id-3 div.sk-label-container {text-align: center;}#sk-container-id-3 div.sk-container {/* jupyter's `normalize.less` sets `[hidden] { display: none; }` but bootstrap.min.css set `[hidden] { display: none !important; }` so we also need the `!important` here to be able to override the default hidden behavior on the sphinx rendered scikit-learn.org. See: https://github.com/scikit-learn/scikit-learn/issues/21755 */display: inline-block !important;position: relative;}#sk-container-id-3 div.sk-text-repr-fallback {display: none;}</style><div id=\"sk-container-id-3\" class=\"sk-top-container\"><div class=\"sk-text-repr-fallback\"><pre>LinearRegression()</pre><b>In a Jupyter environment, please rerun this cell to show the HTML representation or trust the notebook. <br />On GitHub, the HTML representation is unable to render, please try loading this page with nbviewer.org.</b></div><div class=\"sk-container\" hidden><div class=\"sk-item\"><div class=\"sk-estimator sk-toggleable\"><input class=\"sk-toggleable__control sk-hidden--visually\" id=\"sk-estimator-id-3\" type=\"checkbox\" checked><label for=\"sk-estimator-id-3\" class=\"sk-toggleable__label sk-toggleable__label-arrow\">LinearRegression</label><div class=\"sk-toggleable__content\"><pre>LinearRegression()</pre></div></div></div></div></div>"
      ],
      "text/plain": [
       "LinearRegression()"
      ]
     },
     "execution_count": 92,
     "metadata": {},
     "output_type": "execute_result"
    }
   ],
   "source": [
    "reg = linear_model.LinearRegression()\n",
    "reg.fit(df[['Age', 'Gender', 'TBI_Severity', 'Depression_Score']], df.Suicide_Score)"
   ]
  },
  {
   "cell_type": "markdown",
   "id": "15c3debb",
   "metadata": {},
   "source": [
    "Looks good so far. Our model is now ready. Let's see how our coefficients look..."
   ]
  },
  {
   "cell_type": "code",
   "execution_count": 48,
   "id": "c2810973",
   "metadata": {},
   "outputs": [
    {
     "data": {
      "text/plain": [
       "array([-0.0651098 ,  3.64031123,  1.80742821,  3.67420658])"
      ]
     },
     "execution_count": 48,
     "metadata": {},
     "output_type": "execute_result"
    }
   ],
   "source": [
    "reg.coef_"
   ]
  },
  {
   "cell_type": "markdown",
   "id": "a5222305",
   "metadata": {},
   "source": [
    "Remember these are our m_1 (Age) = -0.065, m_2 (Gender) = 3.640, m_3 (TBI_Severity) = 1.807, and m_4 (Depression_Score) = 3.674.\n",
    "\n",
    "Let's take a look at our intercept value next..."
   ]
  },
  {
   "cell_type": "code",
   "execution_count": 49,
   "id": "b1d6ba09",
   "metadata": {},
   "outputs": [
    {
     "data": {
      "text/plain": [
       "-2.096674938975058"
      ]
     },
     "execution_count": 49,
     "metadata": {},
     "output_type": "execute_result"
    }
   ],
   "source": [
    "reg.intercept_"
   ]
  },
  {
   "cell_type": "markdown",
   "id": "33eb9604",
   "metadata": {},
   "source": [
    "This is our b = -2.097."
   ]
  },
  {
   "cell_type": "markdown",
   "id": "464b3990",
   "metadata": {},
   "source": [
    "**Now that we have our coefficients and intercept, we can make use our model to make a prediction.**\n",
    "\n",
    "Let's make a prediction for a person who is 35 years old, identifies as Male, has a TBI severity of 1 (moderate), and a depression score of 4.2."
   ]
  },
  {
   "cell_type": "code",
   "execution_count": 50,
   "id": "e8428984",
   "metadata": {},
   "outputs": [
    {
     "name": "stderr",
     "output_type": "stream",
     "text": [
      "C:\\Users\\jacos\\anaconda3\\lib\\site-packages\\sklearn\\base.py:439: UserWarning: X does not have valid feature names, but LinearRegression was fitted with feature names\n",
      "  warnings.warn(\n"
     ]
    },
    {
     "data": {
      "text/plain": [
       "array([12.86357778])"
      ]
     },
     "execution_count": 50,
     "metadata": {},
     "output_type": "execute_result"
    }
   ],
   "source": [
    "reg.predict([[35, 0, 1.0, 4.200]])"
   ]
  },
  {
   "cell_type": "markdown",
   "id": "98383c88",
   "metadata": {},
   "source": [
    "**It looks like our model predicts that this individual will have a Suicide Score of 12.864.**\n",
    "\n",
    "But what if this person had a severe TBI, rather than a moderate one."
   ]
  },
  {
   "cell_type": "code",
   "execution_count": 51,
   "id": "1a76c7d2",
   "metadata": {},
   "outputs": [
    {
     "name": "stderr",
     "output_type": "stream",
     "text": [
      "C:\\Users\\jacos\\anaconda3\\lib\\site-packages\\sklearn\\base.py:439: UserWarning: X does not have valid feature names, but LinearRegression was fitted with feature names\n",
      "  warnings.warn(\n"
     ]
    },
    {
     "data": {
      "text/plain": [
       "array([14.67100599])"
      ]
     },
     "execution_count": 51,
     "metadata": {},
     "output_type": "execute_result"
    }
   ],
   "source": [
    "reg.predict([[35, 0, 2.0, 4.200]])"
   ]
  },
  {
   "cell_type": "markdown",
   "id": "f24cfa92",
   "metadata": {},
   "source": [
    "Notice there is an increase in the presence of suicidal ideation. Let's return to moderate TBI, but raise the depression score by one point."
   ]
  },
  {
   "cell_type": "code",
   "execution_count": 52,
   "id": "e391450f",
   "metadata": {},
   "outputs": [
    {
     "name": "stderr",
     "output_type": "stream",
     "text": [
      "C:\\Users\\jacos\\anaconda3\\lib\\site-packages\\sklearn\\base.py:439: UserWarning: X does not have valid feature names, but LinearRegression was fitted with feature names\n",
      "  warnings.warn(\n"
     ]
    },
    {
     "data": {
      "text/plain": [
       "array([16.53778436])"
      ]
     },
     "execution_count": 52,
     "metadata": {},
     "output_type": "execute_result"
    }
   ],
   "source": [
    "reg.predict([[35, 0, 1.0, 5.2]])"
   ]
  },
  {
   "cell_type": "markdown",
   "id": "2dcba486",
   "metadata": {},
   "source": [
    "Looks like depression score has even more of an impact than TBI severity. Interesting... but what happens when we leave depression score and TBI severity alone. What if we want to see if gender is a predictor of suicidality. let's change the gender from Male to Female."
   ]
  },
  {
   "cell_type": "code",
   "execution_count": 53,
   "id": "cf84d281",
   "metadata": {
    "scrolled": true
   },
   "outputs": [
    {
     "name": "stderr",
     "output_type": "stream",
     "text": [
      "C:\\Users\\jacos\\anaconda3\\lib\\site-packages\\sklearn\\base.py:439: UserWarning: X does not have valid feature names, but LinearRegression was fitted with feature names\n",
      "  warnings.warn(\n"
     ]
    },
    {
     "data": {
      "text/plain": [
       "array([16.50388901])"
      ]
     },
     "execution_count": 53,
     "metadata": {},
     "output_type": "execute_result"
    }
   ],
   "source": [
    "reg.predict([[35, 1, 1.0, 4.200]])"
   ]
  },
  {
   "cell_type": "markdown",
   "id": "5ccb0752",
   "metadata": {},
   "source": [
    "So it looks like all things being equal, those who identify as female may experience more symptoms of suicidal ideation than those who identify as male.\n",
    "\n",
    "Why don't we see how age impacts suicidal ideation. Let's increase the age of the person by 1 year."
   ]
  },
  {
   "cell_type": "code",
   "execution_count": 55,
   "id": "542010c2",
   "metadata": {
    "scrolled": false
   },
   "outputs": [
    {
     "name": "stderr",
     "output_type": "stream",
     "text": [
      "C:\\Users\\jacos\\anaconda3\\lib\\site-packages\\sklearn\\base.py:439: UserWarning: X does not have valid feature names, but LinearRegression was fitted with feature names\n",
      "  warnings.warn(\n"
     ]
    },
    {
     "data": {
      "text/plain": [
       "array([14.60589618])"
      ]
     },
     "execution_count": 55,
     "metadata": {},
     "output_type": "execute_result"
    }
   ],
   "source": [
    "reg.predict([[36, 0, 2.0, 4.200]])"
   ]
  },
  {
   "cell_type": "markdown",
   "id": "4ce3967d",
   "metadata": {},
   "source": [
    "Interesting! It looks like each year added to the person's age slightly decreases suicidal ideation. What is the difference after 5 years?"
   ]
  },
  {
   "cell_type": "code",
   "execution_count": 70,
   "id": "7fc31a4a",
   "metadata": {
    "scrolled": true
   },
   "outputs": [
    {
     "name": "stderr",
     "output_type": "stream",
     "text": [
      "C:\\Users\\jacos\\anaconda3\\lib\\site-packages\\sklearn\\base.py:439: UserWarning: X does not have valid feature names, but LinearRegression was fitted with feature names\n",
      "  warnings.warn(\n"
     ]
    },
    {
     "data": {
      "text/plain": [
       "array([14.34545697])"
      ]
     },
     "execution_count": 70,
     "metadata": {},
     "output_type": "execute_result"
    }
   ],
   "source": [
    "reg.predict([[40, 0, 2.0, 4.200]])"
   ]
  },
  {
   "cell_type": "markdown",
   "id": "6a978c3c",
   "metadata": {},
   "source": [
    "**Now this is important... notice that although the model predicts that suicidal ideation decreases slightly with age, it barely appears to decrease at all.**\n",
    "\n",
    "When creating a model, it is vital that you pay attention to which variables appear to have an actual impact and which ones may be less useful. Less useful features likely do not add to our model and may cause problems down the line. This process is called **FEATURE SELECTION** and it is a very important part of the process of building regression models. \n",
    "\n",
    "We will talk more about this later. There are better ways to talk about how to select features. But this is a good initial way to get a cursory glance at the data."
   ]
  },
  {
   "cell_type": "markdown",
   "id": "3dfbc8bf",
   "metadata": {},
   "source": [
    "**Reminder: this dataset is fake in every sense. I made it up and any reflection it may have on the real world is purly coincidental.**\n",
    "\n",
    "One more time, for practice, let's see how these values are calculated by hand. Remember that our equation looks something like **y = m_1(Age) * x_1 + m_2(Gender) * x_2 + m_3(TBI_Severity) * x_3 + m_4(Depression_Score) * x_4 + b**"
   ]
  },
  {
   "cell_type": "code",
   "execution_count": 71,
   "id": "dd768fbc",
   "metadata": {},
   "outputs": [
    {
     "data": {
      "text/plain": [
       "14.671006117024943"
      ]
     },
     "execution_count": 71,
     "metadata": {},
     "output_type": "execute_result"
    }
   ],
   "source": [
    "y = -0.0651098*35 + 3.64031123*0 + 1.80742821*2.0 + 3.67420658*4.200 + -2.096674938975058\n",
    "y"
   ]
  },
  {
   "cell_type": "markdown",
   "id": "a6b7d41b",
   "metadata": {},
   "source": [
    "Just as the model predicted the first time. Now we know how to do it ourselves. But we will let the model do it for us from now on to save time. \n",
    "\n",
    "Also, because age does not appear to be a significant predictor for Suicidality, let's go ahead and get rid of that column and retrain our model. "
   ]
  },
  {
   "cell_type": "code",
   "execution_count": 74,
   "id": "ccfb22c9",
   "metadata": {
    "scrolled": true
   },
   "outputs": [
    {
     "data": {
      "text/html": [
       "<style>#sk-container-id-2 {color: black;background-color: white;}#sk-container-id-2 pre{padding: 0;}#sk-container-id-2 div.sk-toggleable {background-color: white;}#sk-container-id-2 label.sk-toggleable__label {cursor: pointer;display: block;width: 100%;margin-bottom: 0;padding: 0.3em;box-sizing: border-box;text-align: center;}#sk-container-id-2 label.sk-toggleable__label-arrow:before {content: \"▸\";float: left;margin-right: 0.25em;color: #696969;}#sk-container-id-2 label.sk-toggleable__label-arrow:hover:before {color: black;}#sk-container-id-2 div.sk-estimator:hover label.sk-toggleable__label-arrow:before {color: black;}#sk-container-id-2 div.sk-toggleable__content {max-height: 0;max-width: 0;overflow: hidden;text-align: left;background-color: #f0f8ff;}#sk-container-id-2 div.sk-toggleable__content pre {margin: 0.2em;color: black;border-radius: 0.25em;background-color: #f0f8ff;}#sk-container-id-2 input.sk-toggleable__control:checked~div.sk-toggleable__content {max-height: 200px;max-width: 100%;overflow: auto;}#sk-container-id-2 input.sk-toggleable__control:checked~label.sk-toggleable__label-arrow:before {content: \"▾\";}#sk-container-id-2 div.sk-estimator input.sk-toggleable__control:checked~label.sk-toggleable__label {background-color: #d4ebff;}#sk-container-id-2 div.sk-label input.sk-toggleable__control:checked~label.sk-toggleable__label {background-color: #d4ebff;}#sk-container-id-2 input.sk-hidden--visually {border: 0;clip: rect(1px 1px 1px 1px);clip: rect(1px, 1px, 1px, 1px);height: 1px;margin: -1px;overflow: hidden;padding: 0;position: absolute;width: 1px;}#sk-container-id-2 div.sk-estimator {font-family: monospace;background-color: #f0f8ff;border: 1px dotted black;border-radius: 0.25em;box-sizing: border-box;margin-bottom: 0.5em;}#sk-container-id-2 div.sk-estimator:hover {background-color: #d4ebff;}#sk-container-id-2 div.sk-parallel-item::after {content: \"\";width: 100%;border-bottom: 1px solid gray;flex-grow: 1;}#sk-container-id-2 div.sk-label:hover label.sk-toggleable__label {background-color: #d4ebff;}#sk-container-id-2 div.sk-serial::before {content: \"\";position: absolute;border-left: 1px solid gray;box-sizing: border-box;top: 0;bottom: 0;left: 50%;z-index: 0;}#sk-container-id-2 div.sk-serial {display: flex;flex-direction: column;align-items: center;background-color: white;padding-right: 0.2em;padding-left: 0.2em;position: relative;}#sk-container-id-2 div.sk-item {position: relative;z-index: 1;}#sk-container-id-2 div.sk-parallel {display: flex;align-items: stretch;justify-content: center;background-color: white;position: relative;}#sk-container-id-2 div.sk-item::before, #sk-container-id-2 div.sk-parallel-item::before {content: \"\";position: absolute;border-left: 1px solid gray;box-sizing: border-box;top: 0;bottom: 0;left: 50%;z-index: -1;}#sk-container-id-2 div.sk-parallel-item {display: flex;flex-direction: column;z-index: 1;position: relative;background-color: white;}#sk-container-id-2 div.sk-parallel-item:first-child::after {align-self: flex-end;width: 50%;}#sk-container-id-2 div.sk-parallel-item:last-child::after {align-self: flex-start;width: 50%;}#sk-container-id-2 div.sk-parallel-item:only-child::after {width: 0;}#sk-container-id-2 div.sk-dashed-wrapped {border: 1px dashed gray;margin: 0 0.4em 0.5em 0.4em;box-sizing: border-box;padding-bottom: 0.4em;background-color: white;}#sk-container-id-2 div.sk-label label {font-family: monospace;font-weight: bold;display: inline-block;line-height: 1.2em;}#sk-container-id-2 div.sk-label-container {text-align: center;}#sk-container-id-2 div.sk-container {/* jupyter's `normalize.less` sets `[hidden] { display: none; }` but bootstrap.min.css set `[hidden] { display: none !important; }` so we also need the `!important` here to be able to override the default hidden behavior on the sphinx rendered scikit-learn.org. See: https://github.com/scikit-learn/scikit-learn/issues/21755 */display: inline-block !important;position: relative;}#sk-container-id-2 div.sk-text-repr-fallback {display: none;}</style><div id=\"sk-container-id-2\" class=\"sk-top-container\"><div class=\"sk-text-repr-fallback\"><pre>LinearRegression()</pre><b>In a Jupyter environment, please rerun this cell to show the HTML representation or trust the notebook. <br />On GitHub, the HTML representation is unable to render, please try loading this page with nbviewer.org.</b></div><div class=\"sk-container\" hidden><div class=\"sk-item\"><div class=\"sk-estimator sk-toggleable\"><input class=\"sk-toggleable__control sk-hidden--visually\" id=\"sk-estimator-id-2\" type=\"checkbox\" checked><label for=\"sk-estimator-id-2\" class=\"sk-toggleable__label sk-toggleable__label-arrow\">LinearRegression</label><div class=\"sk-toggleable__content\"><pre>LinearRegression()</pre></div></div></div></div></div>"
      ],
      "text/plain": [
       "LinearRegression()"
      ]
     },
     "execution_count": 74,
     "metadata": {},
     "output_type": "execute_result"
    }
   ],
   "source": [
    "reg = linear_model.LinearRegression()\n",
    "reg.fit(df[['Gender', 'TBI_Severity', 'Depression_Score']], df.Suicide_Score)"
   ]
  },
  {
   "cell_type": "markdown",
   "id": "fd537257",
   "metadata": {},
   "source": [
    "New coefficients..."
   ]
  },
  {
   "cell_type": "code",
   "execution_count": 75,
   "id": "d4792dba",
   "metadata": {},
   "outputs": [
    {
     "data": {
      "text/plain": [
       "array([2.2608851 , 4.3970873 , 2.45349147])"
      ]
     },
     "execution_count": 75,
     "metadata": {},
     "output_type": "execute_result"
    }
   ],
   "source": [
    "reg.coef_"
   ]
  },
  {
   "cell_type": "markdown",
   "id": "76b8e911",
   "metadata": {},
   "source": [
    "New intercept"
   ]
  },
  {
   "cell_type": "code",
   "execution_count": 76,
   "id": "8f255547",
   "metadata": {},
   "outputs": [
    {
     "data": {
      "text/plain": [
       "-5.283506475034569"
      ]
     },
     "execution_count": 76,
     "metadata": {},
     "output_type": "execute_result"
    }
   ],
   "source": [
    "reg.intercept_"
   ]
  },
  {
   "cell_type": "markdown",
   "id": "38628dad",
   "metadata": {},
   "source": [
    "Let's see how our original prediction from before looks."
   ]
  },
  {
   "cell_type": "code",
   "execution_count": 78,
   "id": "2df19185",
   "metadata": {
    "scrolled": true
   },
   "outputs": [
    {
     "name": "stderr",
     "output_type": "stream",
     "text": [
      "C:\\Users\\jacos\\anaconda3\\lib\\site-packages\\sklearn\\base.py:439: UserWarning: X does not have valid feature names, but LinearRegression was fitted with feature names\n",
      "  warnings.warn(\n"
     ]
    },
    {
     "data": {
      "text/plain": [
       "array([9.41824498])"
      ]
     },
     "execution_count": 78,
     "metadata": {},
     "output_type": "execute_result"
    }
   ],
   "source": [
    "reg.predict([[0, 1.0, 4.200]])"
   ]
  },
  {
   "cell_type": "markdown",
   "id": "fc61eddb",
   "metadata": {},
   "source": [
    "That appears to be quite different. But does that mean that gender is an important predictor after all? Let's plot our regression line for the data points."
   ]
  },
  {
   "cell_type": "code",
   "execution_count": 94,
   "id": "a65afc48",
   "metadata": {},
   "outputs": [
    {
     "data": {
      "image/png": "[encoded data removed]",
      "text/plain": [
       "<Figure size 640x480 with 1 Axes>"
      ]
     },
     "metadata": {},
     "output_type": "display_data"
    }
   ],
   "source": [
    "# Define the coefficients and intercept\n",
    "coefficients = np.array([2.2608851, 4.3970873, 2.45349147])\n",
    "intercept = -5.283506475034569\n",
    "\n",
    "# Calculate the predicted values\n",
    "predicted_age = intercept + np.dot(df[['Gender', 'TBI_Severity', 'Depression_Score']], coefficients)\n",
    "\n",
    "# Plot the predicted values against the actual values\n",
    "plt.scatter(df['Age'], predicted_age)\n",
    "plt.xlabel('Actual Age')\n",
    "plt.ylabel('Predicted Age')\n",
    "plt.show()"
   ]
  },
  {
   "cell_type": "markdown",
   "id": "f2f77f65",
   "metadata": {},
   "source": [
    "## Let's plot our model against the data"
   ]
  }
 ],
 "metadata": {
  "kernelspec": {
   "display_name": "Python 3 (ipykernel)",
   "language": "python",
   "name": "python3"
  },
  "language_info": {
   "codemirror_mode": {
    "name": "ipython",
    "version": 3
   },
   "file_extension": ".py",
   "mimetype": "text/x-python",
   "name": "python",
   "nbconvert_exporter": "python",
   "pygments_lexer": "ipython3",
   "version": "3.9.13"
  }
 },
 "nbformat": 4,
 "nbformat_minor": 5
}
